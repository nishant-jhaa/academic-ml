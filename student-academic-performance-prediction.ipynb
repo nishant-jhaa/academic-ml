{
 "cells": [
  {
   "cell_type": "code",
   "execution_count": 1,
   "id": "2021fbba",
   "metadata": {
    "execution": {
     "iopub.execute_input": "2022-09-05T11:31:06.647454Z",
     "iopub.status.busy": "2022-09-05T11:31:06.646524Z",
     "iopub.status.idle": "2022-09-05T11:31:08.264476Z",
     "shell.execute_reply": "2022-09-05T11:31:08.265140Z",
     "shell.execute_reply.started": "2022-09-05T11:18:01.357558Z"
    },
    "papermill": {
     "duration": 1.692211,
     "end_time": "2022-09-05T11:31:08.265439",
     "exception": false,
     "start_time": "2022-09-05T11:31:06.573228",
     "status": "completed"
    },
    "tags": []
   },
   "outputs": [
    {
     "name": "stdout",
     "output_type": "stream",
     "text": [
      "xAPI-Edu-Data\n",
      "\n"
     ]
    },
    {
     "data": {
      "text/html": [
       "        <script type=\"text/javascript\">\n",
       "        window.PlotlyConfig = {MathJaxConfig: 'local'};\n",
       "        if (window.MathJax) {MathJax.Hub.Config({SVG: {font: \"STIX-Web\"}});}\n",
       "        if (typeof require !== 'undefined') {\n",
       "        require.undef(\"plotly\");\n",
       "        requirejs.config({\n",
       "            paths: {\n",
       "                'plotly': ['https://cdn.plot.ly/plotly-2.9.0.min']\n",
       "            }\n",
       "        });\n",
       "        require(['plotly'], function(Plotly) {\n",
       "            window._Plotly = Plotly;\n",
       "        });\n",
       "        }\n",
       "        </script>\n",
       "        "
      ]
     },
     "metadata": {},
     "output_type": "display_data"
    },
    {
     "name": "stdout",
     "output_type": "stream",
     "text": [
      "/kaggle/input/xAPI-Edu-Data/xAPI-Edu-Data.csv\n"
     ]
    }
   ],
   "source": [
    "import numpy as np \n",
    "import pandas as pd \n",
    "from subprocess import check_output\n",
    "print(check_output([\"ls\", \"../input\"]).decode(\"utf8\"))\n",
    "# Visualization\n",
    "import matplotlib.pyplot as plt\n",
    "import seaborn as sns\n",
    "%matplotlib inline\n",
    "from plotly import tools\n",
    "import plotly\n",
    "from plotly.offline import init_notebook_mode, iplot\n",
    "init_notebook_mode(connected=True)\n",
    "import plotly.graph_objs as go\n",
    "from plotly.tools import FigureFactory as FF\n",
    "#Scaling\n",
    "from sklearn.preprocessing import StandardScaler\n",
    "from sklearn.preprocessing import LabelEncoder\n",
    "#Train Test Split\n",
    "from sklearn.model_selection import train_test_split\n",
    "\n",
    "# Models\n",
    "from sklearn.neighbors import KNeighborsClassifier\n",
    "from sklearn.linear_model import LogisticRegression\n",
    "from sklearn.ensemble import RandomForestClassifier\n",
    "from sklearn.tree import DecisionTreeClassifier\n",
    "from sklearn.svm import SVC\n",
    "\n",
    "#Evaluation\n",
    "from sklearn.metrics import classification_report\n",
    "from sklearn.metrics import confusion_matrix,accuracy_score\n",
    "from sklearn.model_selection import cross_val_score\n",
    "from sklearn.model_selection import cross_val_score\n",
    "import os\n",
    "for dirname, _, filenames in os.walk('/kaggle/input'):\n",
    "    for filename in filenames:\n",
    "        print(os.path.join(dirname, filename))"
   ]
  },
  {
   "cell_type": "code",
   "execution_count": 2,
   "id": "dc8fa035",
   "metadata": {
    "execution": {
     "iopub.execute_input": "2022-09-05T11:31:08.401123Z",
     "iopub.status.busy": "2022-09-05T11:31:08.400390Z",
     "iopub.status.idle": "2022-09-05T11:31:08.415461Z",
     "shell.execute_reply": "2022-09-05T11:31:08.416112Z",
     "shell.execute_reply.started": "2022-09-05T11:18:01.404737Z"
    },
    "papermill": {
     "duration": 0.085389,
     "end_time": "2022-09-05T11:31:08.416315",
     "exception": false,
     "start_time": "2022-09-05T11:31:08.330926",
     "status": "completed"
    },
    "tags": []
   },
   "outputs": [],
   "source": [
    "# Reading the data\n",
    "student = pd.read_csv('/kaggle/input/xAPI-Edu-Data/xAPI-Edu-Data.csv')"
   ]
  },
  {
   "cell_type": "code",
   "execution_count": 3,
   "id": "0938f9ec",
   "metadata": {
    "execution": {
     "iopub.execute_input": "2022-09-05T11:31:08.555346Z",
     "iopub.status.busy": "2022-09-05T11:31:08.554609Z",
     "iopub.status.idle": "2022-09-05T11:31:08.577100Z",
     "shell.execute_reply": "2022-09-05T11:31:08.577656Z",
     "shell.execute_reply.started": "2022-09-05T11:18:01.419586Z"
    },
    "papermill": {
     "duration": 0.094379,
     "end_time": "2022-09-05T11:31:08.577849",
     "exception": false,
     "start_time": "2022-09-05T11:31:08.483470",
     "status": "completed"
    },
    "tags": []
   },
   "outputs": [
    {
     "data": {
      "text/html": [
       "<div>\n",
       "<style scoped>\n",
       "    .dataframe tbody tr th:only-of-type {\n",
       "        vertical-align: middle;\n",
       "    }\n",
       "\n",
       "    .dataframe tbody tr th {\n",
       "        vertical-align: top;\n",
       "    }\n",
       "\n",
       "    .dataframe thead th {\n",
       "        text-align: right;\n",
       "    }\n",
       "</style>\n",
       "<table border=\"1\" class=\"dataframe\">\n",
       "  <thead>\n",
       "    <tr style=\"text-align: right;\">\n",
       "      <th></th>\n",
       "      <th>gender</th>\n",
       "      <th>NationalITy</th>\n",
       "      <th>PlaceofBirth</th>\n",
       "      <th>StageID</th>\n",
       "      <th>GradeID</th>\n",
       "      <th>SectionID</th>\n",
       "      <th>Topic</th>\n",
       "      <th>Semester</th>\n",
       "      <th>Relation</th>\n",
       "      <th>raisedhands</th>\n",
       "      <th>VisITedResources</th>\n",
       "      <th>AnnouncementsView</th>\n",
       "      <th>Discussion</th>\n",
       "      <th>ParentAnsweringSurvey</th>\n",
       "      <th>ParentschoolSatisfaction</th>\n",
       "      <th>StudentAbsenceDays</th>\n",
       "      <th>Class</th>\n",
       "    </tr>\n",
       "  </thead>\n",
       "  <tbody>\n",
       "    <tr>\n",
       "      <th>0</th>\n",
       "      <td>M</td>\n",
       "      <td>KW</td>\n",
       "      <td>KuwaIT</td>\n",
       "      <td>lowerlevel</td>\n",
       "      <td>G-04</td>\n",
       "      <td>A</td>\n",
       "      <td>IT</td>\n",
       "      <td>F</td>\n",
       "      <td>Father</td>\n",
       "      <td>15</td>\n",
       "      <td>16</td>\n",
       "      <td>2</td>\n",
       "      <td>20</td>\n",
       "      <td>Yes</td>\n",
       "      <td>Good</td>\n",
       "      <td>Under-7</td>\n",
       "      <td>M</td>\n",
       "    </tr>\n",
       "    <tr>\n",
       "      <th>1</th>\n",
       "      <td>M</td>\n",
       "      <td>KW</td>\n",
       "      <td>KuwaIT</td>\n",
       "      <td>lowerlevel</td>\n",
       "      <td>G-04</td>\n",
       "      <td>A</td>\n",
       "      <td>IT</td>\n",
       "      <td>F</td>\n",
       "      <td>Father</td>\n",
       "      <td>20</td>\n",
       "      <td>20</td>\n",
       "      <td>3</td>\n",
       "      <td>25</td>\n",
       "      <td>Yes</td>\n",
       "      <td>Good</td>\n",
       "      <td>Under-7</td>\n",
       "      <td>M</td>\n",
       "    </tr>\n",
       "    <tr>\n",
       "      <th>2</th>\n",
       "      <td>M</td>\n",
       "      <td>KW</td>\n",
       "      <td>KuwaIT</td>\n",
       "      <td>lowerlevel</td>\n",
       "      <td>G-04</td>\n",
       "      <td>A</td>\n",
       "      <td>IT</td>\n",
       "      <td>F</td>\n",
       "      <td>Father</td>\n",
       "      <td>10</td>\n",
       "      <td>7</td>\n",
       "      <td>0</td>\n",
       "      <td>30</td>\n",
       "      <td>No</td>\n",
       "      <td>Bad</td>\n",
       "      <td>Above-7</td>\n",
       "      <td>L</td>\n",
       "    </tr>\n",
       "    <tr>\n",
       "      <th>3</th>\n",
       "      <td>M</td>\n",
       "      <td>KW</td>\n",
       "      <td>KuwaIT</td>\n",
       "      <td>lowerlevel</td>\n",
       "      <td>G-04</td>\n",
       "      <td>A</td>\n",
       "      <td>IT</td>\n",
       "      <td>F</td>\n",
       "      <td>Father</td>\n",
       "      <td>30</td>\n",
       "      <td>25</td>\n",
       "      <td>5</td>\n",
       "      <td>35</td>\n",
       "      <td>No</td>\n",
       "      <td>Bad</td>\n",
       "      <td>Above-7</td>\n",
       "      <td>L</td>\n",
       "    </tr>\n",
       "    <tr>\n",
       "      <th>4</th>\n",
       "      <td>M</td>\n",
       "      <td>KW</td>\n",
       "      <td>KuwaIT</td>\n",
       "      <td>lowerlevel</td>\n",
       "      <td>G-04</td>\n",
       "      <td>A</td>\n",
       "      <td>IT</td>\n",
       "      <td>F</td>\n",
       "      <td>Father</td>\n",
       "      <td>40</td>\n",
       "      <td>50</td>\n",
       "      <td>12</td>\n",
       "      <td>50</td>\n",
       "      <td>No</td>\n",
       "      <td>Bad</td>\n",
       "      <td>Above-7</td>\n",
       "      <td>M</td>\n",
       "    </tr>\n",
       "  </tbody>\n",
       "</table>\n",
       "</div>"
      ],
      "text/plain": [
       "  gender NationalITy PlaceofBirth     StageID GradeID SectionID Topic  \\\n",
       "0      M          KW       KuwaIT  lowerlevel    G-04         A    IT   \n",
       "1      M          KW       KuwaIT  lowerlevel    G-04         A    IT   \n",
       "2      M          KW       KuwaIT  lowerlevel    G-04         A    IT   \n",
       "3      M          KW       KuwaIT  lowerlevel    G-04         A    IT   \n",
       "4      M          KW       KuwaIT  lowerlevel    G-04         A    IT   \n",
       "\n",
       "  Semester Relation  raisedhands  VisITedResources  AnnouncementsView  \\\n",
       "0        F   Father           15                16                  2   \n",
       "1        F   Father           20                20                  3   \n",
       "2        F   Father           10                 7                  0   \n",
       "3        F   Father           30                25                  5   \n",
       "4        F   Father           40                50                 12   \n",
       "\n",
       "   Discussion ParentAnsweringSurvey ParentschoolSatisfaction  \\\n",
       "0          20                   Yes                     Good   \n",
       "1          25                   Yes                     Good   \n",
       "2          30                    No                      Bad   \n",
       "3          35                    No                      Bad   \n",
       "4          50                    No                      Bad   \n",
       "\n",
       "  StudentAbsenceDays Class  \n",
       "0            Under-7     M  \n",
       "1            Under-7     M  \n",
       "2            Above-7     L  \n",
       "3            Above-7     L  \n",
       "4            Above-7     M  "
      ]
     },
     "execution_count": 3,
     "metadata": {},
     "output_type": "execute_result"
    }
   ],
   "source": [
    "# Checking the head of the data (First 5 rows)\n",
    "student.head()"
   ]
  },
  {
   "cell_type": "code",
   "execution_count": 4,
   "id": "352b1d70",
   "metadata": {
    "execution": {
     "iopub.execute_input": "2022-09-05T11:31:08.713452Z",
     "iopub.status.busy": "2022-09-05T11:31:08.712709Z",
     "iopub.status.idle": "2022-09-05T11:31:08.733074Z",
     "shell.execute_reply": "2022-09-05T11:31:08.733555Z",
     "shell.execute_reply.started": "2022-09-05T11:18:01.440960Z"
    },
    "papermill": {
     "duration": 0.092708,
     "end_time": "2022-09-05T11:31:08.733738",
     "exception": false,
     "start_time": "2022-09-05T11:31:08.641030",
     "status": "completed"
    },
    "tags": []
   },
   "outputs": [
    {
     "name": "stdout",
     "output_type": "stream",
     "text": [
      "<class 'pandas.core.frame.DataFrame'>\n",
      "RangeIndex: 480 entries, 0 to 479\n",
      "Data columns (total 17 columns):\n",
      " #   Column                    Non-Null Count  Dtype \n",
      "---  ------                    --------------  ----- \n",
      " 0   gender                    480 non-null    object\n",
      " 1   NationalITy               480 non-null    object\n",
      " 2   PlaceofBirth              480 non-null    object\n",
      " 3   StageID                   480 non-null    object\n",
      " 4   GradeID                   480 non-null    object\n",
      " 5   SectionID                 480 non-null    object\n",
      " 6   Topic                     480 non-null    object\n",
      " 7   Semester                  480 non-null    object\n",
      " 8   Relation                  480 non-null    object\n",
      " 9   raisedhands               480 non-null    int64 \n",
      " 10  VisITedResources          480 non-null    int64 \n",
      " 11  AnnouncementsView         480 non-null    int64 \n",
      " 12  Discussion                480 non-null    int64 \n",
      " 13  ParentAnsweringSurvey     480 non-null    object\n",
      " 14  ParentschoolSatisfaction  480 non-null    object\n",
      " 15  StudentAbsenceDays        480 non-null    object\n",
      " 16  Class                     480 non-null    object\n",
      "dtypes: int64(4), object(13)\n",
      "memory usage: 63.9+ KB\n"
     ]
    }
   ],
   "source": [
    "# Show null counts and data types\n",
    "student.info()"
   ]
  },
  {
   "cell_type": "markdown",
   "id": "3f3292de",
   "metadata": {
    "papermill": {
     "duration": 0.063515,
     "end_time": "2022-09-05T11:31:08.861018",
     "exception": false,
     "start_time": "2022-09-05T11:31:08.797503",
     "status": "completed"
    },
    "tags": []
   },
   "source": [
    "Data set Describe****"
   ]
  },
  {
   "cell_type": "code",
   "execution_count": 5,
   "id": "a4df8917",
   "metadata": {
    "execution": {
     "iopub.execute_input": "2022-09-05T11:31:08.991902Z",
     "iopub.status.busy": "2022-09-05T11:31:08.991208Z",
     "iopub.status.idle": "2022-09-05T11:31:09.013664Z",
     "shell.execute_reply": "2022-09-05T11:31:09.014147Z",
     "shell.execute_reply.started": "2022-09-05T11:18:01.464647Z"
    },
    "papermill": {
     "duration": 0.089757,
     "end_time": "2022-09-05T11:31:09.014327",
     "exception": false,
     "start_time": "2022-09-05T11:31:08.924570",
     "status": "completed"
    },
    "tags": []
   },
   "outputs": [
    {
     "data": {
      "text/html": [
       "<div>\n",
       "<style scoped>\n",
       "    .dataframe tbody tr th:only-of-type {\n",
       "        vertical-align: middle;\n",
       "    }\n",
       "\n",
       "    .dataframe tbody tr th {\n",
       "        vertical-align: top;\n",
       "    }\n",
       "\n",
       "    .dataframe thead th {\n",
       "        text-align: right;\n",
       "    }\n",
       "</style>\n",
       "<table border=\"1\" class=\"dataframe\">\n",
       "  <thead>\n",
       "    <tr style=\"text-align: right;\">\n",
       "      <th></th>\n",
       "      <th>raisedhands</th>\n",
       "      <th>VisITedResources</th>\n",
       "      <th>AnnouncementsView</th>\n",
       "      <th>Discussion</th>\n",
       "    </tr>\n",
       "  </thead>\n",
       "  <tbody>\n",
       "    <tr>\n",
       "      <th>count</th>\n",
       "      <td>480.000000</td>\n",
       "      <td>480.000000</td>\n",
       "      <td>480.000000</td>\n",
       "      <td>480.000000</td>\n",
       "    </tr>\n",
       "    <tr>\n",
       "      <th>mean</th>\n",
       "      <td>46.775000</td>\n",
       "      <td>54.797917</td>\n",
       "      <td>37.918750</td>\n",
       "      <td>43.283333</td>\n",
       "    </tr>\n",
       "    <tr>\n",
       "      <th>std</th>\n",
       "      <td>30.779223</td>\n",
       "      <td>33.080007</td>\n",
       "      <td>26.611244</td>\n",
       "      <td>27.637735</td>\n",
       "    </tr>\n",
       "    <tr>\n",
       "      <th>min</th>\n",
       "      <td>0.000000</td>\n",
       "      <td>0.000000</td>\n",
       "      <td>0.000000</td>\n",
       "      <td>1.000000</td>\n",
       "    </tr>\n",
       "    <tr>\n",
       "      <th>25%</th>\n",
       "      <td>15.750000</td>\n",
       "      <td>20.000000</td>\n",
       "      <td>14.000000</td>\n",
       "      <td>20.000000</td>\n",
       "    </tr>\n",
       "    <tr>\n",
       "      <th>50%</th>\n",
       "      <td>50.000000</td>\n",
       "      <td>65.000000</td>\n",
       "      <td>33.000000</td>\n",
       "      <td>39.000000</td>\n",
       "    </tr>\n",
       "    <tr>\n",
       "      <th>75%</th>\n",
       "      <td>75.000000</td>\n",
       "      <td>84.000000</td>\n",
       "      <td>58.000000</td>\n",
       "      <td>70.000000</td>\n",
       "    </tr>\n",
       "    <tr>\n",
       "      <th>max</th>\n",
       "      <td>100.000000</td>\n",
       "      <td>99.000000</td>\n",
       "      <td>98.000000</td>\n",
       "      <td>99.000000</td>\n",
       "    </tr>\n",
       "  </tbody>\n",
       "</table>\n",
       "</div>"
      ],
      "text/plain": [
       "       raisedhands  VisITedResources  AnnouncementsView  Discussion\n",
       "count   480.000000        480.000000         480.000000  480.000000\n",
       "mean     46.775000         54.797917          37.918750   43.283333\n",
       "std      30.779223         33.080007          26.611244   27.637735\n",
       "min       0.000000          0.000000           0.000000    1.000000\n",
       "25%      15.750000         20.000000          14.000000   20.000000\n",
       "50%      50.000000         65.000000          33.000000   39.000000\n",
       "75%      75.000000         84.000000          58.000000   70.000000\n",
       "max     100.000000         99.000000          98.000000   99.000000"
      ]
     },
     "execution_count": 5,
     "metadata": {},
     "output_type": "execute_result"
    }
   ],
   "source": [
    "student.describe()"
   ]
  },
  {
   "cell_type": "code",
   "execution_count": 6,
   "id": "ac201334",
   "metadata": {
    "execution": {
     "iopub.execute_input": "2022-09-05T11:31:09.145246Z",
     "iopub.status.busy": "2022-09-05T11:31:09.144580Z",
     "iopub.status.idle": "2022-09-05T11:31:09.149654Z",
     "shell.execute_reply": "2022-09-05T11:31:09.150396Z",
     "shell.execute_reply.started": "2022-09-05T11:18:01.494145Z"
    },
    "papermill": {
     "duration": 0.072563,
     "end_time": "2022-09-05T11:31:09.150626",
     "exception": false,
     "start_time": "2022-09-05T11:31:09.078063",
     "status": "completed"
    },
    "tags": []
   },
   "outputs": [
    {
     "name": "stdout",
     "output_type": "stream",
     "text": [
      "(480, 17)\n"
     ]
    }
   ],
   "source": [
    "print(student.shape)"
   ]
  },
  {
   "cell_type": "code",
   "execution_count": 7,
   "id": "7c85085a",
   "metadata": {
    "execution": {
     "iopub.execute_input": "2022-09-05T11:31:09.285343Z",
     "iopub.status.busy": "2022-09-05T11:31:09.284672Z",
     "iopub.status.idle": "2022-09-05T11:31:09.292028Z",
     "shell.execute_reply": "2022-09-05T11:31:09.292575Z",
     "shell.execute_reply.started": "2022-09-05T11:18:01.502785Z"
    },
    "papermill": {
     "duration": 0.076203,
     "end_time": "2022-09-05T11:31:09.292745",
     "exception": false,
     "start_time": "2022-09-05T11:31:09.216542",
     "status": "completed"
    },
    "tags": []
   },
   "outputs": [
    {
     "data": {
      "text/plain": [
       "gender                      0\n",
       "NationalITy                 0\n",
       "PlaceofBirth                0\n",
       "StageID                     0\n",
       "GradeID                     0\n",
       "SectionID                   0\n",
       "Topic                       0\n",
       "Semester                    0\n",
       "Relation                    0\n",
       "raisedhands                 0\n",
       "VisITedResources            0\n",
       "AnnouncementsView           0\n",
       "Discussion                  0\n",
       "ParentAnsweringSurvey       0\n",
       "ParentschoolSatisfaction    0\n",
       "StudentAbsenceDays          0\n",
       "Class                       0\n",
       "dtype: int64"
      ]
     },
     "execution_count": 7,
     "metadata": {},
     "output_type": "execute_result"
    }
   ],
   "source": [
    "student.isnull().sum()"
   ]
  },
  {
   "cell_type": "code",
   "execution_count": 8,
   "id": "bfdb26d3",
   "metadata": {
    "execution": {
     "iopub.execute_input": "2022-09-05T11:31:09.427144Z",
     "iopub.status.busy": "2022-09-05T11:31:09.426198Z",
     "iopub.status.idle": "2022-09-05T11:31:09.433273Z",
     "shell.execute_reply": "2022-09-05T11:31:09.433905Z",
     "shell.execute_reply.started": "2022-09-05T11:18:01.518012Z"
    },
    "papermill": {
     "duration": 0.076681,
     "end_time": "2022-09-05T11:31:09.434079",
     "exception": false,
     "start_time": "2022-09-05T11:31:09.357398",
     "status": "completed"
    },
    "tags": []
   },
   "outputs": [
    {
     "data": {
      "text/plain": [
       "M    305\n",
       "F    175\n",
       "Name: gender, dtype: int64"
      ]
     },
     "execution_count": 8,
     "metadata": {},
     "output_type": "execute_result"
    }
   ],
   "source": [
    "student['gender'].value_counts()"
   ]
  },
  {
   "cell_type": "code",
   "execution_count": 9,
   "id": "617bc626",
   "metadata": {
    "execution": {
     "iopub.execute_input": "2022-09-05T11:31:09.570101Z",
     "iopub.status.busy": "2022-09-05T11:31:09.569156Z",
     "iopub.status.idle": "2022-09-05T11:31:09.805925Z",
     "shell.execute_reply": "2022-09-05T11:31:09.806448Z",
     "shell.execute_reply.started": "2022-09-05T11:18:01.534849Z"
    },
    "papermill": {
     "duration": 0.307564,
     "end_time": "2022-09-05T11:31:09.806615",
     "exception": false,
     "start_time": "2022-09-05T11:31:09.499051",
     "status": "completed"
    },
    "tags": []
   },
   "outputs": [
    {
     "name": "stdout",
     "output_type": "stream",
     "text": [
      "Percentage M    0.635417\n",
      "F    0.364583\n",
      "Name: gender, dtype: float64\n"
     ]
    },
    {
     "data": {
      "text/plain": [
       "<AxesSubplot:>"
      ]
     },
     "execution_count": 9,
     "metadata": {},
     "output_type": "execute_result"
    },
    {
     "data": {
      "image/png": "[encoded data removed]",
      "text/plain": [
       "<Figure size 432x288 with 1 Axes>"
      ]
     },
     "metadata": {
      "needs_background": "light"
     },
     "output_type": "display_data"
    }
   ],
   "source": [
    "print('Percentage',student.gender.value_counts(normalize=True))\n",
    "student.gender.value_counts(normalize=True).plot(kind='bar')"
   ]
  },
  {
   "cell_type": "code",
   "execution_count": 10,
   "id": "78742d44",
   "metadata": {
    "execution": {
     "iopub.execute_input": "2022-09-05T11:31:09.947478Z",
     "iopub.status.busy": "2022-09-05T11:31:09.946313Z",
     "iopub.status.idle": "2022-09-05T11:31:09.953212Z",
     "shell.execute_reply": "2022-09-05T11:31:09.952545Z",
     "shell.execute_reply.started": "2022-09-05T11:18:01.743688Z"
    },
    "papermill": {
     "duration": 0.07888,
     "end_time": "2022-09-05T11:31:09.953361",
     "exception": false,
     "start_time": "2022-09-05T11:31:09.874481",
     "status": "completed"
    },
    "tags": []
   },
   "outputs": [
    {
     "data": {
      "text/plain": [
       "KW             179\n",
       "Jordan         172\n",
       "Palestine       28\n",
       "Iraq            22\n",
       "lebanon         17\n",
       "Tunis           12\n",
       "SaudiArabia     11\n",
       "Egypt            9\n",
       "Syria            7\n",
       "USA              6\n",
       "Iran             6\n",
       "Lybia            6\n",
       "Morocco          4\n",
       "venzuela         1\n",
       "Name: NationalITy, dtype: int64"
      ]
     },
     "execution_count": 10,
     "metadata": {},
     "output_type": "execute_result"
    }
   ],
   "source": [
    "student['NationalITy'].value_counts()"
   ]
  },
  {
   "cell_type": "code",
   "execution_count": 11,
   "id": "191103f9",
   "metadata": {
    "execution": {
     "iopub.execute_input": "2022-09-05T11:31:10.091884Z",
     "iopub.status.busy": "2022-09-05T11:31:10.091178Z",
     "iopub.status.idle": "2022-09-05T11:31:10.329389Z",
     "shell.execute_reply": "2022-09-05T11:31:10.330021Z",
     "shell.execute_reply.started": "2022-09-05T11:18:01.754864Z"
    },
    "papermill": {
     "duration": 0.308351,
     "end_time": "2022-09-05T11:31:10.330212",
     "exception": false,
     "start_time": "2022-09-05T11:31:10.021861",
     "status": "completed"
    },
    "tags": []
   },
   "outputs": [
    {
     "name": "stdout",
     "output_type": "stream",
     "text": [
      "Percentage KW             0.372917\n",
      "Jordan         0.358333\n",
      "Palestine      0.058333\n",
      "Iraq           0.045833\n",
      "lebanon        0.035417\n",
      "Tunis          0.025000\n",
      "SaudiArabia    0.022917\n",
      "Egypt          0.018750\n",
      "Syria          0.014583\n",
      "USA            0.012500\n",
      "Iran           0.012500\n",
      "Lybia          0.012500\n",
      "Morocco        0.008333\n",
      "venzuela       0.002083\n",
      "Name: NationalITy, dtype: float64\n"
     ]
    },
    {
     "data": {
      "text/plain": [
       "<AxesSubplot:>"
      ]
     },
     "execution_count": 11,
     "metadata": {},
     "output_type": "execute_result"
    },
    {
     "data": {
      "image/png": "[encoded data removed]",
      "text/plain": [
       "<Figure size 432x288 with 1 Axes>"
      ]
     },
     "metadata": {
      "needs_background": "light"
     },
     "output_type": "display_data"
    }
   ],
   "source": [
    "print('Percentage',student.NationalITy.value_counts(normalize=True))\n",
    "student.NationalITy.value_counts(normalize=True).plot(kind='bar')"
   ]
  },
  {
   "cell_type": "code",
   "execution_count": 12,
   "id": "1dcbe1db",
   "metadata": {
    "execution": {
     "iopub.execute_input": "2022-09-05T11:31:10.473716Z",
     "iopub.status.busy": "2022-09-05T11:31:10.473059Z",
     "iopub.status.idle": "2022-09-05T11:31:10.481450Z",
     "shell.execute_reply": "2022-09-05T11:31:10.480813Z",
     "shell.execute_reply.started": "2022-09-05T11:18:02.061117Z"
    },
    "papermill": {
     "duration": 0.080984,
     "end_time": "2022-09-05T11:31:10.481589",
     "exception": false,
     "start_time": "2022-09-05T11:31:10.400605",
     "status": "completed"
    },
    "tags": []
   },
   "outputs": [
    {
     "data": {
      "text/plain": [
       "KuwaIT         180\n",
       "Jordan         176\n",
       "Iraq            22\n",
       "lebanon         19\n",
       "SaudiArabia     16\n",
       "USA             16\n",
       "Palestine       10\n",
       "Egypt            9\n",
       "Tunis            9\n",
       "Iran             6\n",
       "Syria            6\n",
       "Lybia            6\n",
       "Morocco          4\n",
       "venzuela         1\n",
       "Name: PlaceofBirth, dtype: int64"
      ]
     },
     "execution_count": 12,
     "metadata": {},
     "output_type": "execute_result"
    }
   ],
   "source": [
    "student['PlaceofBirth'].value_counts()"
   ]
  },
  {
   "cell_type": "code",
   "execution_count": 13,
   "id": "751168f0",
   "metadata": {
    "execution": {
     "iopub.execute_input": "2022-09-05T11:31:10.628413Z",
     "iopub.status.busy": "2022-09-05T11:31:10.627734Z",
     "iopub.status.idle": "2022-09-05T11:31:10.892151Z",
     "shell.execute_reply": "2022-09-05T11:31:10.892645Z",
     "shell.execute_reply.started": "2022-09-05T11:18:02.071979Z"
    },
    "papermill": {
     "duration": 0.342815,
     "end_time": "2022-09-05T11:31:10.892835",
     "exception": false,
     "start_time": "2022-09-05T11:31:10.550020",
     "status": "completed"
    },
    "tags": []
   },
   "outputs": [
    {
     "name": "stdout",
     "output_type": "stream",
     "text": [
      "Percentage KuwaIT         0.375000\n",
      "Jordan         0.366667\n",
      "Iraq           0.045833\n",
      "lebanon        0.039583\n",
      "SaudiArabia    0.033333\n",
      "USA            0.033333\n",
      "Palestine      0.020833\n",
      "Egypt          0.018750\n",
      "Tunis          0.018750\n",
      "Iran           0.012500\n",
      "Syria          0.012500\n",
      "Lybia          0.012500\n",
      "Morocco        0.008333\n",
      "venzuela       0.002083\n",
      "Name: PlaceofBirth, dtype: float64\n"
     ]
    },
    {
     "data": {
      "text/plain": [
       "<AxesSubplot:>"
      ]
     },
     "execution_count": 13,
     "metadata": {},
     "output_type": "execute_result"
    },
    {
     "data": {
      "image/png": "[encoded data removed]",
      "text/plain": [
       "<Figure size 432x288 with 1 Axes>"
      ]
     },
     "metadata": {
      "needs_background": "light"
     },
     "output_type": "display_data"
    }
   ],
   "source": [
    "print('Percentage',student.PlaceofBirth.value_counts(normalize=True))\n",
    "student.PlaceofBirth.value_counts(normalize=True).plot(kind='bar')"
   ]
  },
  {
   "cell_type": "code",
   "execution_count": 14,
   "id": "2f80f61a",
   "metadata": {
    "execution": {
     "iopub.execute_input": "2022-09-05T11:31:11.038526Z",
     "iopub.status.busy": "2022-09-05T11:31:11.037885Z",
     "iopub.status.idle": "2022-09-05T11:31:11.041629Z",
     "shell.execute_reply": "2022-09-05T11:31:11.042137Z",
     "shell.execute_reply.started": "2022-09-05T11:18:02.331119Z"
    },
    "papermill": {
     "duration": 0.07966,
     "end_time": "2022-09-05T11:31:11.042306",
     "exception": false,
     "start_time": "2022-09-05T11:31:10.962646",
     "status": "completed"
    },
    "tags": []
   },
   "outputs": [
    {
     "data": {
      "text/plain": [
       "IT           95\n",
       "French       65\n",
       "Arabic       59\n",
       "Science      51\n",
       "English      45\n",
       "Biology      30\n",
       "Spanish      25\n",
       "Chemistry    24\n",
       "Geology      24\n",
       "Quran        22\n",
       "Math         21\n",
       "History      19\n",
       "Name: Topic, dtype: int64"
      ]
     },
     "execution_count": 14,
     "metadata": {},
     "output_type": "execute_result"
    }
   ],
   "source": [
    "student['Topic'].value_counts()"
   ]
  },
  {
   "cell_type": "code",
   "execution_count": 15,
   "id": "f89341cd",
   "metadata": {
    "execution": {
     "iopub.execute_input": "2022-09-05T11:31:11.202460Z",
     "iopub.status.busy": "2022-09-05T11:31:11.194319Z",
     "iopub.status.idle": "2022-09-05T11:31:11.460414Z",
     "shell.execute_reply": "2022-09-05T11:31:11.460943Z",
     "shell.execute_reply.started": "2022-09-05T11:18:02.341717Z"
    },
    "papermill": {
     "duration": 0.348519,
     "end_time": "2022-09-05T11:31:11.461213",
     "exception": false,
     "start_time": "2022-09-05T11:31:11.112694",
     "status": "completed"
    },
    "tags": []
   },
   "outputs": [
    {
     "name": "stdout",
     "output_type": "stream",
     "text": [
      "Percentage IT           0.197917\n",
      "French       0.135417\n",
      "Arabic       0.122917\n",
      "Science      0.106250\n",
      "English      0.093750\n",
      "Biology      0.062500\n",
      "Spanish      0.052083\n",
      "Chemistry    0.050000\n",
      "Geology      0.050000\n",
      "Quran        0.045833\n",
      "Math         0.043750\n",
      "History      0.039583\n",
      "Name: Topic, dtype: float64\n"
     ]
    },
    {
     "data": {
      "text/plain": [
       "<AxesSubplot:>"
      ]
     },
     "execution_count": 15,
     "metadata": {},
     "output_type": "execute_result"
    },
    {
     "data": {
      "image/png": "[encoded data removed]",
      "text/plain": [
       "<Figure size 432x288 with 1 Axes>"
      ]
     },
     "metadata": {
      "needs_background": "light"
     },
     "output_type": "display_data"
    }
   ],
   "source": [
    "print('Percentage',student.Topic.value_counts(normalize=True))\n",
    "student.Topic.value_counts(normalize=True).plot(kind='bar')"
   ]
  },
  {
   "cell_type": "code",
   "execution_count": 16,
   "id": "a10e2731",
   "metadata": {
    "execution": {
     "iopub.execute_input": "2022-09-05T11:31:11.610296Z",
     "iopub.status.busy": "2022-09-05T11:31:11.609619Z",
     "iopub.status.idle": "2022-09-05T11:31:11.616631Z",
     "shell.execute_reply": "2022-09-05T11:31:11.617273Z",
     "shell.execute_reply.started": "2022-09-05T11:18:02.577171Z"
    },
    "papermill": {
     "duration": 0.083233,
     "end_time": "2022-09-05T11:31:11.617448",
     "exception": false,
     "start_time": "2022-09-05T11:31:11.534215",
     "status": "completed"
    },
    "tags": []
   },
   "outputs": [
    {
     "data": {
      "text/plain": [
       "MiddleSchool    248\n",
       "lowerlevel      199\n",
       "HighSchool       33\n",
       "Name: StageID, dtype: int64"
      ]
     },
     "execution_count": 16,
     "metadata": {},
     "output_type": "execute_result"
    }
   ],
   "source": [
    "student['StageID'].value_counts()"
   ]
  },
  {
   "cell_type": "code",
   "execution_count": 17,
   "id": "53f2db0e",
   "metadata": {
    "execution": {
     "iopub.execute_input": "2022-09-05T11:31:11.765793Z",
     "iopub.status.busy": "2022-09-05T11:31:11.764849Z",
     "iopub.status.idle": "2022-09-05T11:31:11.906731Z",
     "shell.execute_reply": "2022-09-05T11:31:11.907338Z",
     "shell.execute_reply.started": "2022-09-05T11:18:02.585788Z"
    },
    "papermill": {
     "duration": 0.217609,
     "end_time": "2022-09-05T11:31:11.907519",
     "exception": false,
     "start_time": "2022-09-05T11:31:11.689910",
     "status": "completed"
    },
    "tags": []
   },
   "outputs": [
    {
     "name": "stdout",
     "output_type": "stream",
     "text": [
      "Percentage MiddleSchool    0.516667\n",
      "lowerlevel      0.414583\n",
      "HighSchool      0.068750\n",
      "Name: StageID, dtype: float64\n"
     ]
    },
    {
     "data": {
      "text/plain": [
       "<AxesSubplot:>"
      ]
     },
     "execution_count": 17,
     "metadata": {},
     "output_type": "execute_result"
    },
    {
     "data": {
      "image/png": "[encoded data removed]",
      "text/plain": [
       "<Figure size 432x288 with 1 Axes>"
      ]
     },
     "metadata": {
      "needs_background": "light"
     },
     "output_type": "display_data"
    }
   ],
   "source": [
    "print('Percentage',student.StageID.value_counts(normalize=True))\n",
    "student.StageID.value_counts(normalize=True).plot(kind='bar')"
   ]
  },
  {
   "cell_type": "code",
   "execution_count": 18,
   "id": "a7d0f207",
   "metadata": {
    "execution": {
     "iopub.execute_input": "2022-09-05T11:31:12.062505Z",
     "iopub.status.busy": "2022-09-05T11:31:12.061863Z",
     "iopub.status.idle": "2022-09-05T11:31:12.064511Z",
     "shell.execute_reply": "2022-09-05T11:31:12.065048Z",
     "shell.execute_reply.started": "2022-09-05T11:18:02.740738Z"
    },
    "papermill": {
     "duration": 0.083312,
     "end_time": "2022-09-05T11:31:12.065232",
     "exception": false,
     "start_time": "2022-09-05T11:31:11.981920",
     "status": "completed"
    },
    "tags": []
   },
   "outputs": [
    {
     "data": {
      "text/plain": [
       "G-02    147\n",
       "G-08    116\n",
       "G-07    101\n",
       "G-04     48\n",
       "G-06     32\n",
       "G-11     13\n",
       "G-12     11\n",
       "G-09      5\n",
       "G-10      4\n",
       "G-05      3\n",
       "Name: GradeID, dtype: int64"
      ]
     },
     "execution_count": 18,
     "metadata": {},
     "output_type": "execute_result"
    }
   ],
   "source": [
    "student['GradeID'].value_counts()"
   ]
  },
  {
   "cell_type": "code",
   "execution_count": 19,
   "id": "8eccdaf0",
   "metadata": {
    "execution": {
     "iopub.execute_input": "2022-09-05T11:31:12.217600Z",
     "iopub.status.busy": "2022-09-05T11:31:12.216966Z",
     "iopub.status.idle": "2022-09-05T11:31:12.457298Z",
     "shell.execute_reply": "2022-09-05T11:31:12.457865Z",
     "shell.execute_reply.started": "2022-09-05T11:18:02.751792Z"
    },
    "papermill": {
     "duration": 0.31764,
     "end_time": "2022-09-05T11:31:12.458043",
     "exception": false,
     "start_time": "2022-09-05T11:31:12.140403",
     "status": "completed"
    },
    "tags": []
   },
   "outputs": [
    {
     "name": "stdout",
     "output_type": "stream",
     "text": [
      "Percentage G-02    0.306250\n",
      "G-08    0.241667\n",
      "G-07    0.210417\n",
      "G-04    0.100000\n",
      "G-06    0.066667\n",
      "G-11    0.027083\n",
      "G-12    0.022917\n",
      "G-09    0.010417\n",
      "G-10    0.008333\n",
      "G-05    0.006250\n",
      "Name: GradeID, dtype: float64\n"
     ]
    },
    {
     "data": {
      "text/plain": [
       "<AxesSubplot:>"
      ]
     },
     "execution_count": 19,
     "metadata": {},
     "output_type": "execute_result"
    },
    {
     "data": {
      "image/png": "[encoded data removed]",
      "text/plain": [
       "<Figure size 432x288 with 1 Axes>"
      ]
     },
     "metadata": {
      "needs_background": "light"
     },
     "output_type": "display_data"
    }
   ],
   "source": [
    "print('Percentage',student.GradeID.value_counts(normalize=True))\n",
    "student.GradeID.value_counts(normalize=True).plot(kind='bar')"
   ]
  },
  {
   "cell_type": "code",
   "execution_count": 20,
   "id": "34b18000",
   "metadata": {
    "execution": {
     "iopub.execute_input": "2022-09-05T11:31:12.615752Z",
     "iopub.status.busy": "2022-09-05T11:31:12.614830Z",
     "iopub.status.idle": "2022-09-05T11:31:12.622287Z",
     "shell.execute_reply": "2022-09-05T11:31:12.622851Z",
     "shell.execute_reply.started": "2022-09-05T11:18:03.009664Z"
    },
    "papermill": {
     "duration": 0.087885,
     "end_time": "2022-09-05T11:31:12.623020",
     "exception": false,
     "start_time": "2022-09-05T11:31:12.535135",
     "status": "completed"
    },
    "tags": []
   },
   "outputs": [
    {
     "data": {
      "text/plain": [
       "F    245\n",
       "S    235\n",
       "Name: Semester, dtype: int64"
      ]
     },
     "execution_count": 20,
     "metadata": {},
     "output_type": "execute_result"
    }
   ],
   "source": [
    "student['Semester'].value_counts()"
   ]
  },
  {
   "cell_type": "code",
   "execution_count": 21,
   "id": "0103a346",
   "metadata": {
    "execution": {
     "iopub.execute_input": "2022-09-05T11:31:12.783353Z",
     "iopub.status.busy": "2022-09-05T11:31:12.782383Z",
     "iopub.status.idle": "2022-09-05T11:31:12.970069Z",
     "shell.execute_reply": "2022-09-05T11:31:12.970544Z",
     "shell.execute_reply.started": "2022-09-05T11:18:03.018498Z"
    },
    "papermill": {
     "duration": 0.268582,
     "end_time": "2022-09-05T11:31:12.970727",
     "exception": false,
     "start_time": "2022-09-05T11:31:12.702145",
     "status": "completed"
    },
    "tags": []
   },
   "outputs": [
    {
     "name": "stdout",
     "output_type": "stream",
     "text": [
      "Parcentage F    0.510417\n",
      "S    0.489583\n",
      "Name: Semester, dtype: float64\n"
     ]
    },
    {
     "data": {
      "text/plain": [
       "<AxesSubplot:>"
      ]
     },
     "execution_count": 21,
     "metadata": {},
     "output_type": "execute_result"
    },
    {
     "data": {
      "image/png": "[encoded data removed]",
      "text/plain": [
       "<Figure size 432x288 with 1 Axes>"
      ]
     },
     "metadata": {
      "needs_background": "light"
     },
     "output_type": "display_data"
    }
   ],
   "source": [
    "print('Parcentage',student.Semester.value_counts(normalize=True))\n",
    "student.Semester.value_counts(normalize=True).plot(kind='bar')"
   ]
  },
  {
   "cell_type": "code",
   "execution_count": 22,
   "id": "570ee802",
   "metadata": {
    "execution": {
     "iopub.execute_input": "2022-09-05T11:31:13.128799Z",
     "iopub.status.busy": "2022-09-05T11:31:13.128135Z",
     "iopub.status.idle": "2022-09-05T11:31:13.134349Z",
     "shell.execute_reply": "2022-09-05T11:31:13.135006Z",
     "shell.execute_reply.started": "2022-09-05T11:18:03.220900Z"
    },
    "papermill": {
     "duration": 0.086848,
     "end_time": "2022-09-05T11:31:13.135184",
     "exception": false,
     "start_time": "2022-09-05T11:31:13.048336",
     "status": "completed"
    },
    "tags": []
   },
   "outputs": [
    {
     "data": {
      "text/plain": [
       "Father    283\n",
       "Mum       197\n",
       "Name: Relation, dtype: int64"
      ]
     },
     "execution_count": 22,
     "metadata": {},
     "output_type": "execute_result"
    }
   ],
   "source": [
    "student['Relation'].value_counts()"
   ]
  },
  {
   "cell_type": "code",
   "execution_count": 23,
   "id": "d4bf7c54",
   "metadata": {
    "execution": {
     "iopub.execute_input": "2022-09-05T11:31:13.293364Z",
     "iopub.status.busy": "2022-09-05T11:31:13.292712Z",
     "iopub.status.idle": "2022-09-05T11:31:13.570239Z",
     "shell.execute_reply": "2022-09-05T11:31:13.570917Z",
     "shell.execute_reply.started": "2022-09-05T11:18:03.230233Z"
    },
    "papermill": {
     "duration": 0.358371,
     "end_time": "2022-09-05T11:31:13.571097",
     "exception": false,
     "start_time": "2022-09-05T11:31:13.212726",
     "status": "completed"
    },
    "tags": []
   },
   "outputs": [
    {
     "name": "stdout",
     "output_type": "stream",
     "text": [
      "Parcentage Father    0.589583\n",
      "Mum       0.410417\n",
      "Name: Relation, dtype: float64\n"
     ]
    },
    {
     "data": {
      "text/plain": [
       "<AxesSubplot:>"
      ]
     },
     "execution_count": 23,
     "metadata": {},
     "output_type": "execute_result"
    },
    {
     "data": {
      "image/png": "[encoded data removed]",
      "text/plain": [
       "<Figure size 432x288 with 1 Axes>"
      ]
     },
     "metadata": {
      "needs_background": "light"
     },
     "output_type": "display_data"
    }
   ],
   "source": [
    "print('Parcentage',student.Relation.value_counts(normalize=True))\n",
    "student.Relation.value_counts(normalize=True).plot(kind='bar')"
   ]
  },
  {
   "cell_type": "code",
   "execution_count": 24,
   "id": "66d74f0b",
   "metadata": {
    "execution": {
     "iopub.execute_input": "2022-09-05T11:31:13.733746Z",
     "iopub.status.busy": "2022-09-05T11:31:13.732823Z",
     "iopub.status.idle": "2022-09-05T11:31:13.740717Z",
     "shell.execute_reply": "2022-09-05T11:31:13.741269Z",
     "shell.execute_reply.started": "2022-09-05T11:18:03.437062Z"
    },
    "papermill": {
     "duration": 0.090228,
     "end_time": "2022-09-05T11:31:13.741436",
     "exception": false,
     "start_time": "2022-09-05T11:31:13.651208",
     "status": "completed"
    },
    "tags": []
   },
   "outputs": [
    {
     "data": {
      "text/plain": [
       "10    31\n",
       "70    31\n",
       "80    28\n",
       "72    17\n",
       "50    17\n",
       "      ..\n",
       "61     1\n",
       "83     1\n",
       "52     1\n",
       "67     1\n",
       "97     1\n",
       "Name: raisedhands, Length: 82, dtype: int64"
      ]
     },
     "execution_count": 24,
     "metadata": {},
     "output_type": "execute_result"
    }
   ],
   "source": [
    "student['raisedhands'].value_counts()"
   ]
  },
  {
   "cell_type": "code",
   "execution_count": 25,
   "id": "c567cafd",
   "metadata": {
    "execution": {
     "iopub.execute_input": "2022-09-05T11:31:13.905461Z",
     "iopub.status.busy": "2022-09-05T11:31:13.904465Z",
     "iopub.status.idle": "2022-09-05T11:31:14.784197Z",
     "shell.execute_reply": "2022-09-05T11:31:14.785141Z",
     "shell.execute_reply.started": "2022-09-05T11:18:03.448448Z"
    },
    "papermill": {
     "duration": 0.964025,
     "end_time": "2022-09-05T11:31:14.785427",
     "exception": false,
     "start_time": "2022-09-05T11:31:13.821402",
     "status": "completed"
    },
    "tags": []
   },
   "outputs": [
    {
     "data": {
      "application/vnd.plotly.v1+json": {
       "config": {
        "linkText": "Export to plot.ly",
        "plotlyServerURL": "https://plot.ly",
        "showLink": false
       },
       "data": [
        {
         "domain": {
          "x": [
           0,
           0.95
          ]
         },
         "hole": 0.7,
         "hoverinfo": "label+percent+name",
         "labels": [
          10,
          70,
          80,
          72,
          50,
          15,
          60,
          12,
          20,
          90,
          19,
          25,
          5,
          85,
          35,
          0,
          30,
          75,
          87,
          2,
          7,
          55,
          100,
          11,
          22,
          78,
          79,
          27,
          32,
          69,
          40,
          62,
          17,
          81,
          95,
          8,
          39,
          89,
          65,
          45,
          92,
          29,
          13,
          77,
          42,
          82,
          88,
          98,
          21,
          51,
          23,
          14,
          24,
          9,
          74,
          4,
          71,
          49,
          18,
          59,
          3,
          84,
          1,
          96,
          53,
          16,
          99,
          76,
          86,
          36,
          33,
          28,
          57,
          41,
          73,
          6,
          66,
          61,
          83,
          52,
          67,
          97
         ],
         "marker": {
          "colors": [
           "#330C25",
           "#C42746",
           "#F2B1A4",
           "#F2C4A2",
           "#467196",
           "#8BB3D6",
           "#1748D1",
           "#CCE4F9",
           "#235077",
           "#5F67DD",
           "#0F4777",
           "#9D9CE8",
           "#EF3054",
           "#B2B09B",
           "#254441",
           "#FF6F59",
           "#41B5A3",
           "#F0F3BD",
           "#02C39A",
           "#9FD35C",
           "#028090",
           "#05668D",
           "#000000",
           "#C6000D",
           "#E89005",
           "#377771",
           "#ED6A5E",
           "#FF8E72",
           "#FFAF87",
           "#41B5A3"
          ]
         },
         "name": "Raisedhands Parcentage",
         "textfont": {
          "color": "#FFFFFF"
         },
         "type": "pie",
         "values": [
          31,
          31,
          28,
          17,
          17,
          14,
          12,
          12,
          11,
          11,
          11,
          11,
          10,
          9,
          9,
          9,
          9,
          8,
          8,
          8,
          7,
          7,
          6,
          6,
          6,
          6,
          6,
          6,
          6,
          6,
          6,
          6,
          5,
          5,
          5,
          5,
          5,
          5,
          4,
          4,
          4,
          4,
          4,
          4,
          4,
          4,
          3,
          3,
          3,
          3,
          3,
          3,
          3,
          3,
          3,
          3,
          3,
          3,
          2,
          2,
          2,
          2,
          2,
          2,
          2,
          2,
          1,
          1,
          1,
          1,
          1,
          1,
          1,
          1,
          1,
          1,
          1,
          1,
          1,
          1,
          1,
          1
         ]
        }
       ],
       "layout": {
        "annotations": [
         {
          "font": {
           "size": 15
          },
          "showarrow": false,
          "text": "Raisedhands Parcentage",
          "x": 0.4,
          "y": 0.5
         }
        ],
        "template": {
         "data": {
          "bar": [
           {
            "error_x": {
             "color": "#2a3f5f"
            },
            "error_y": {
             "color": "#2a3f5f"
            },
            "marker": {
             "line": {
              "color": "#E5ECF6",
              "width": 0.5
             },
             "pattern": {
              "fillmode": "overlay",
              "size": 10,
              "solidity": 0.2
             }
            },
            "type": "bar"
           }
          ],
          "barpolar": [
           {
            "marker": {
             "line": {
              "color": "#E5ECF6",
              "width": 0.5
             },
             "pattern": {
              "fillmode": "overlay",
              "size": 10,
              "solidity": 0.2
             }
            },
            "type": "barpolar"
           }
          ],
          "carpet": [
           {
            "aaxis": {
             "endlinecolor": "#2a3f5f",
             "gridcolor": "white",
             "linecolor": "white",
             "minorgridcolor": "white",
             "startlinecolor": "#2a3f5f"
            },
            "baxis": {
             "endlinecolor": "#2a3f5f",
             "gridcolor": "white",
             "linecolor": "white",
             "minorgridcolor": "white",
             "startlinecolor": "#2a3f5f"
            },
            "type": "carpet"
           }
          ],
          "choropleth": [
           {
            "colorbar": {
             "outlinewidth": 0,
             "ticks": ""
            },
            "type": "choropleth"
           }
          ],
          "contour": [
           {
            "colorbar": {
             "outlinewidth": 0,
             "ticks": ""
            },
            "colorscale": [
             [
              0.0,
              "#0d0887"
             ],
             [
              0.1111111111111111,
              "#46039f"
             ],
             [
              0.2222222222222222,
              "#7201a8"
             ],
             [
              0.3333333333333333,
              "#9c179e"
             ],
             [
              0.4444444444444444,
              "#bd3786"
             ],
             [
              0.5555555555555556,
              "#d8576b"
             ],
             [
              0.6666666666666666,
              "#ed7953"
             ],
             [
              0.7777777777777778,
              "#fb9f3a"
             ],
             [
              0.8888888888888888,
              "#fdca26"
             ],
             [
              1.0,
              "#f0f921"
             ]
            ],
            "type": "contour"
           }
          ],
          "contourcarpet": [
           {
            "colorbar": {
             "outlinewidth": 0,
             "ticks": ""
            },
            "type": "contourcarpet"
           }
          ],
          "heatmap": [
           {
            "colorbar": {
             "outlinewidth": 0,
             "ticks": ""
            },
            "colorscale": [
             [
              0.0,
              "#0d0887"
             ],
             [
              0.1111111111111111,
              "#46039f"
             ],
             [
              0.2222222222222222,
              "#7201a8"
             ],
             [
              0.3333333333333333,
              "#9c179e"
             ],
             [
              0.4444444444444444,
              "#bd3786"
             ],
             [
              0.5555555555555556,
              "#d8576b"
             ],
             [
              0.6666666666666666,
              "#ed7953"
             ],
             [
              0.7777777777777778,
              "#fb9f3a"
             ],
             [
              0.8888888888888888,
              "#fdca26"
             ],
             [
              1.0,
              "#f0f921"
             ]
            ],
            "type": "heatmap"
           }
          ],
          "heatmapgl": [
           {
            "colorbar": {
             "outlinewidth": 0,
             "ticks": ""
            },
            "colorscale": [
             [
              0.0,
              "#0d0887"
             ],
             [
              0.1111111111111111,
              "#46039f"
             ],
             [
              0.2222222222222222,
              "#7201a8"
             ],
             [
              0.3333333333333333,
              "#9c179e"
             ],
             [
              0.4444444444444444,
              "#bd3786"
             ],
             [
              0.5555555555555556,
              "#d8576b"
             ],
             [
              0.6666666666666666,
              "#ed7953"
             ],
             [
              0.7777777777777778,
              "#fb9f3a"
             ],
             [
              0.8888888888888888,
              "#fdca26"
             ],
             [
              1.0,
              "#f0f921"
             ]
            ],
            "type": "heatmapgl"
           }
          ],
          "histogram": [
           {
            "marker": {
             "pattern": {
              "fillmode": "overlay",
              "size": 10,
              "solidity": 0.2
             }
            },
            "type": "histogram"
           }
          ],
          "histogram2d": [
           {
            "colorbar": {
             "outlinewidth": 0,
             "ticks": ""
            },
            "colorscale": [
             [
              0.0,
              "#0d0887"
             ],
             [
              0.1111111111111111,
              "#46039f"
             ],
             [
              0.2222222222222222,
              "#7201a8"
             ],
             [
              0.3333333333333333,
              "#9c179e"
             ],
             [
              0.4444444444444444,
              "#bd3786"
             ],
             [
              0.5555555555555556,
              "#d8576b"
             ],
             [
              0.6666666666666666,
              "#ed7953"
             ],
             [
              0.7777777777777778,
              "#fb9f3a"
             ],
             [
              0.8888888888888888,
              "#fdca26"
             ],
             [
              1.0,
              "#f0f921"
             ]
            ],
            "type": "histogram2d"
           }
          ],
          "histogram2dcontour": [
           {
            "colorbar": {
             "outlinewidth": 0,
             "ticks": ""
            },
            "colorscale": [
             [
              0.0,
              "#0d0887"
             ],
             [
              0.1111111111111111,
              "#46039f"
             ],
             [
              0.2222222222222222,
              "#7201a8"
             ],
             [
              0.3333333333333333,
              "#9c179e"
             ],
             [
              0.4444444444444444,
              "#bd3786"
             ],
             [
              0.5555555555555556,
              "#d8576b"
             ],
             [
              0.6666666666666666,
              "#ed7953"
             ],
             [
              0.7777777777777778,
              "#fb9f3a"
             ],
             [
              0.8888888888888888,
              "#fdca26"
             ],
             [
              1.0,
              "#f0f921"
             ]
            ],
            "type": "histogram2dcontour"
           }
          ],
          "mesh3d": [
           {
            "colorbar": {
             "outlinewidth": 0,
             "ticks": ""
            },
            "type": "mesh3d"
           }
          ],
          "parcoords": [
           {
            "line": {
             "colorbar": {
              "outlinewidth": 0,
              "ticks": ""
             }
            },
            "type": "parcoords"
           }
          ],
          "pie": [
           {
            "automargin": true,
            "type": "pie"
           }
          ],
          "scatter": [
           {
            "marker": {
             "colorbar": {
              "outlinewidth": 0,
              "ticks": ""
             }
            },
            "type": "scatter"
           }
          ],
          "scatter3d": [
           {
            "line": {
             "colorbar": {
              "outlinewidth": 0,
              "ticks": ""
             }
            },
            "marker": {
             "colorbar": {
              "outlinewidth": 0,
              "ticks": ""
             }
            },
            "type": "scatter3d"
           }
          ],
          "scattercarpet": [
           {
            "marker": {
             "colorbar": {
              "outlinewidth": 0,
              "ticks": ""
             }
            },
            "type": "scattercarpet"
           }
          ],
          "scattergeo": [
           {
            "marker": {
             "colorbar": {
              "outlinewidth": 0,
              "ticks": ""
             }
            },
            "type": "scattergeo"
           }
          ],
          "scattergl": [
           {
            "marker": {
             "colorbar": {
              "outlinewidth": 0,
              "ticks": ""
             }
            },
            "type": "scattergl"
           }
          ],
          "scattermapbox": [
           {
            "marker": {
             "colorbar": {
              "outlinewidth": 0,
              "ticks": ""
             }
            },
            "type": "scattermapbox"
           }
          ],
          "scatterpolar": [
           {
            "marker": {
             "colorbar": {
              "outlinewidth": 0,
              "ticks": ""
             }
            },
            "type": "scatterpolar"
           }
          ],
          "scatterpolargl": [
           {
            "marker": {
             "colorbar": {
              "outlinewidth": 0,
              "ticks": ""
             }
            },
            "type": "scatterpolargl"
           }
          ],
          "scatterternary": [
           {
            "marker": {
             "colorbar": {
              "outlinewidth": 0,
              "ticks": ""
             }
            },
            "type": "scatterternary"
           }
          ],
          "surface": [
           {
            "colorbar": {
             "outlinewidth": 0,
             "ticks": ""
            },
            "colorscale": [
             [
              0.0,
              "#0d0887"
             ],
             [
              0.1111111111111111,
              "#46039f"
             ],
             [
              0.2222222222222222,
              "#7201a8"
             ],
             [
              0.3333333333333333,
              "#9c179e"
             ],
             [
              0.4444444444444444,
              "#bd3786"
             ],
             [
              0.5555555555555556,
              "#d8576b"
             ],
             [
              0.6666666666666666,
              "#ed7953"
             ],
             [
              0.7777777777777778,
              "#fb9f3a"
             ],
             [
              0.8888888888888888,
              "#fdca26"
             ],
             [
              1.0,
              "#f0f921"
             ]
            ],
            "type": "surface"
           }
          ],
          "table": [
           {
            "cells": {
             "fill": {
              "color": "#EBF0F8"
             },
             "line": {
              "color": "white"
             }
            },
            "header": {
             "fill": {
              "color": "#C8D4E3"
             },
             "line": {
              "color": "white"
             }
            },
            "type": "table"
           }
          ]
         },
         "layout": {
          "annotationdefaults": {
           "arrowcolor": "#2a3f5f",
           "arrowhead": 0,
           "arrowwidth": 1
          },
          "autotypenumbers": "strict",
          "coloraxis": {
           "colorbar": {
            "outlinewidth": 0,
            "ticks": ""
           }
          },
          "colorscale": {
           "diverging": [
            [
             0,
             "#8e0152"
            ],
            [
             0.1,
             "#c51b7d"
            ],
            [
             0.2,
             "#de77ae"
            ],
            [
             0.3,
             "#f1b6da"
            ],
            [
             0.4,
             "#fde0ef"
            ],
            [
             0.5,
             "#f7f7f7"
            ],
            [
             0.6,
             "#e6f5d0"
            ],
            [
             0.7,
             "#b8e186"
            ],
            [
             0.8,
             "#7fbc41"
            ],
            [
             0.9,
             "#4d9221"
            ],
            [
             1,
             "#276419"
            ]
           ],
           "sequential": [
            [
             0.0,
             "#0d0887"
            ],
            [
             0.1111111111111111,
             "#46039f"
            ],
            [
             0.2222222222222222,
             "#7201a8"
            ],
            [
             0.3333333333333333,
             "#9c179e"
            ],
            [
             0.4444444444444444,
             "#bd3786"
            ],
            [
             0.5555555555555556,
             "#d8576b"
            ],
            [
             0.6666666666666666,
             "#ed7953"
            ],
            [
             0.7777777777777778,
             "#fb9f3a"
            ],
            [
             0.8888888888888888,
             "#fdca26"
            ],
            [
             1.0,
             "#f0f921"
            ]
           ],
           "sequentialminus": [
            [
             0.0,
             "#0d0887"
            ],
            [
             0.1111111111111111,
             "#46039f"
            ],
            [
             0.2222222222222222,
             "#7201a8"
            ],
            [
             0.3333333333333333,
             "#9c179e"
            ],
            [
             0.4444444444444444,
             "#bd3786"
            ],
            [
             0.5555555555555556,
             "#d8576b"
            ],
            [
             0.6666666666666666,
             "#ed7953"
            ],
            [
             0.7777777777777778,
             "#fb9f3a"
            ],
            [
             0.8888888888888888,
             "#fdca26"
            ],
            [
             1.0,
             "#f0f921"
            ]
           ]
          },
          "colorway": [
           "#636efa",
           "#EF553B",
           "#00cc96",
           "#ab63fa",
           "#FFA15A",
           "#19d3f3",
           "#FF6692",
           "#B6E880",
           "#FF97FF",
           "#FECB52"
          ],
          "font": {
           "color": "#2a3f5f"
          },
          "geo": {
           "bgcolor": "white",
           "lakecolor": "white",
           "landcolor": "#E5ECF6",
           "showlakes": true,
           "showland": true,
           "subunitcolor": "white"
          },
          "hoverlabel": {
           "align": "left"
          },
          "hovermode": "closest",
          "mapbox": {
           "style": "light"
          },
          "paper_bgcolor": "white",
          "plot_bgcolor": "#E5ECF6",
          "polar": {
           "angularaxis": {
            "gridcolor": "white",
            "linecolor": "white",
            "ticks": ""
           },
           "bgcolor": "#E5ECF6",
           "radialaxis": {
            "gridcolor": "white",
            "linecolor": "white",
            "ticks": ""
           }
          },
          "scene": {
           "xaxis": {
            "backgroundcolor": "#E5ECF6",
            "gridcolor": "white",
            "gridwidth": 2,
            "linecolor": "white",
            "showbackground": true,
            "ticks": "",
            "zerolinecolor": "white"
           },
           "yaxis": {
            "backgroundcolor": "#E5ECF6",
            "gridcolor": "white",
            "gridwidth": 2,
            "linecolor": "white",
            "showbackground": true,
            "ticks": "",
            "zerolinecolor": "white"
           },
           "zaxis": {
            "backgroundcolor": "#E5ECF6",
            "gridcolor": "white",
            "gridwidth": 2,
            "linecolor": "white",
            "showbackground": true,
            "ticks": "",
            "zerolinecolor": "white"
           }
          },
          "shapedefaults": {
           "line": {
            "color": "#2a3f5f"
           }
          },
          "ternary": {
           "aaxis": {
            "gridcolor": "white",
            "linecolor": "white",
            "ticks": ""
           },
           "baxis": {
            "gridcolor": "white",
            "linecolor": "white",
            "ticks": ""
           },
           "bgcolor": "#E5ECF6",
           "caxis": {
            "gridcolor": "white",
            "linecolor": "white",
            "ticks": ""
           }
          },
          "title": {
           "x": 0.05
          },
          "xaxis": {
           "automargin": true,
           "gridcolor": "white",
           "linecolor": "white",
           "ticks": "",
           "title": {
            "standoff": 15
           },
           "zerolinecolor": "white",
           "zerolinewidth": 2
          },
          "yaxis": {
           "automargin": true,
           "gridcolor": "white",
           "linecolor": "white",
           "ticks": "",
           "title": {
            "standoff": 15
           },
           "zerolinecolor": "white",
           "zerolinewidth": 2
          }
         }
        },
        "title": {
         "text": "Raisedhands Parcentage"
        }
       }
      },
      "text/html": [
       "<div>                            <div id=\"97f3ed2f-1c60-4955-ae77-2b82902c12fd\" class=\"plotly-graph-div\" style=\"height:525px; width:100%;\"></div>            <script type=\"text/javascript\">                require([\"plotly\"], function(Plotly) {                    window.PLOTLYENV=window.PLOTLYENV || {};                                    if (document.getElementById(\"97f3ed2f-1c60-4955-ae77-2b82902c12fd\")) {                    Plotly.newPlot(                        \"97f3ed2f-1c60-4955-ae77-2b82902c12fd\",                        [{\"domain\":{\"x\":[0,0.95]},\"hole\":0.7,\"hoverinfo\":\"label+percent+name\",\"labels\":[10,70,80,72,50,15,60,12,20,90,19,25,5,85,35,0,30,75,87,2,7,55,100,11,22,78,79,27,32,69,40,62,17,81,95,8,39,89,65,45,92,29,13,77,42,82,88,98,21,51,23,14,24,9,74,4,71,49,18,59,3,84,1,96,53,16,99,76,86,36,33,28,57,41,73,6,66,61,83,52,67,97],\"marker\":{\"colors\":[\"#330C25\",\"#C42746\",\"#F2B1A4\",\"#F2C4A2\",\"#467196\",\"#8BB3D6\",\"#1748D1\",\"#CCE4F9\",\"#235077\",\"#5F67DD\",\"#0F4777\",\"#9D9CE8\",\"#EF3054\",\"#B2B09B\",\"#254441\",\"#FF6F59\",\"#41B5A3\",\"#F0F3BD\",\"#02C39A\",\"#9FD35C\",\"#028090\",\"#05668D\",\"#000000\",\"#C6000D\",\"#E89005\",\"#377771\",\"#ED6A5E\",\"#FF8E72\",\"#FFAF87\",\"#41B5A3\"]},\"name\":\"Raisedhands Parcentage\",\"textfont\":{\"color\":\"#FFFFFF\"},\"values\":[31,31,28,17,17,14,12,12,11,11,11,11,10,9,9,9,9,8,8,8,7,7,6,6,6,6,6,6,6,6,6,6,5,5,5,5,5,5,4,4,4,4,4,4,4,4,3,3,3,3,3,3,3,3,3,3,3,3,2,2,2,2,2,2,2,2,1,1,1,1,1,1,1,1,1,1,1,1,1,1,1,1],\"type\":\"pie\"}],                        {\"annotations\":[{\"font\":{\"size\":15},\"showarrow\":false,\"text\":\"Raisedhands Parcentage\",\"x\":0.4,\"y\":0.5}],\"template\":{\"data\":{\"barpolar\":[{\"marker\":{\"line\":{\"color\":\"#E5ECF6\",\"width\":0.5},\"pattern\":{\"fillmode\":\"overlay\",\"size\":10,\"solidity\":0.2}},\"type\":\"barpolar\"}],\"bar\":[{\"error_x\":{\"color\":\"#2a3f5f\"},\"error_y\":{\"color\":\"#2a3f5f\"},\"marker\":{\"line\":{\"color\":\"#E5ECF6\",\"width\":0.5},\"pattern\":{\"fillmode\":\"overlay\",\"size\":10,\"solidity\":0.2}},\"type\":\"bar\"}],\"carpet\":[{\"aaxis\":{\"endlinecolor\":\"#2a3f5f\",\"gridcolor\":\"white\",\"linecolor\":\"white\",\"minorgridcolor\":\"white\",\"startlinecolor\":\"#2a3f5f\"},\"baxis\":{\"endlinecolor\":\"#2a3f5f\",\"gridcolor\":\"white\",\"linecolor\":\"white\",\"minorgridcolor\":\"white\",\"startlinecolor\":\"#2a3f5f\"},\"type\":\"carpet\"}],\"choropleth\":[{\"colorbar\":{\"outlinewidth\":0,\"ticks\":\"\"},\"type\":\"choropleth\"}],\"contourcarpet\":[{\"colorbar\":{\"outlinewidth\":0,\"ticks\":\"\"},\"type\":\"contourcarpet\"}],\"contour\":[{\"colorbar\":{\"outlinewidth\":0,\"ticks\":\"\"},\"colorscale\":[[0.0,\"#0d0887\"],[0.1111111111111111,\"#46039f\"],[0.2222222222222222,\"#7201a8\"],[0.3333333333333333,\"#9c179e\"],[0.4444444444444444,\"#bd3786\"],[0.5555555555555556,\"#d8576b\"],[0.6666666666666666,\"#ed7953\"],[0.7777777777777778,\"#fb9f3a\"],[0.8888888888888888,\"#fdca26\"],[1.0,\"#f0f921\"]],\"type\":\"contour\"}],\"heatmapgl\":[{\"colorbar\":{\"outlinewidth\":0,\"ticks\":\"\"},\"colorscale\":[[0.0,\"#0d0887\"],[0.1111111111111111,\"#46039f\"],[0.2222222222222222,\"#7201a8\"],[0.3333333333333333,\"#9c179e\"],[0.4444444444444444,\"#bd3786\"],[0.5555555555555556,\"#d8576b\"],[0.6666666666666666,\"#ed7953\"],[0.7777777777777778,\"#fb9f3a\"],[0.8888888888888888,\"#fdca26\"],[1.0,\"#f0f921\"]],\"type\":\"heatmapgl\"}],\"heatmap\":[{\"colorbar\":{\"outlinewidth\":0,\"ticks\":\"\"},\"colorscale\":[[0.0,\"#0d0887\"],[0.1111111111111111,\"#46039f\"],[0.2222222222222222,\"#7201a8\"],[0.3333333333333333,\"#9c179e\"],[0.4444444444444444,\"#bd3786\"],[0.5555555555555556,\"#d8576b\"],[0.6666666666666666,\"#ed7953\"],[0.7777777777777778,\"#fb9f3a\"],[0.8888888888888888,\"#fdca26\"],[1.0,\"#f0f921\"]],\"type\":\"heatmap\"}],\"histogram2dcontour\":[{\"colorbar\":{\"outlinewidth\":0,\"ticks\":\"\"},\"colorscale\":[[0.0,\"#0d0887\"],[0.1111111111111111,\"#46039f\"],[0.2222222222222222,\"#7201a8\"],[0.3333333333333333,\"#9c179e\"],[0.4444444444444444,\"#bd3786\"],[0.5555555555555556,\"#d8576b\"],[0.6666666666666666,\"#ed7953\"],[0.7777777777777778,\"#fb9f3a\"],[0.8888888888888888,\"#fdca26\"],[1.0,\"#f0f921\"]],\"type\":\"histogram2dcontour\"}],\"histogram2d\":[{\"colorbar\":{\"outlinewidth\":0,\"ticks\":\"\"},\"colorscale\":[[0.0,\"#0d0887\"],[0.1111111111111111,\"#46039f\"],[0.2222222222222222,\"#7201a8\"],[0.3333333333333333,\"#9c179e\"],[0.4444444444444444,\"#bd3786\"],[0.5555555555555556,\"#d8576b\"],[0.6666666666666666,\"#ed7953\"],[0.7777777777777778,\"#fb9f3a\"],[0.8888888888888888,\"#fdca26\"],[1.0,\"#f0f921\"]],\"type\":\"histogram2d\"}],\"histogram\":[{\"marker\":{\"pattern\":{\"fillmode\":\"overlay\",\"size\":10,\"solidity\":0.2}},\"type\":\"histogram\"}],\"mesh3d\":[{\"colorbar\":{\"outlinewidth\":0,\"ticks\":\"\"},\"type\":\"mesh3d\"}],\"parcoords\":[{\"line\":{\"colorbar\":{\"outlinewidth\":0,\"ticks\":\"\"}},\"type\":\"parcoords\"}],\"pie\":[{\"automargin\":true,\"type\":\"pie\"}],\"scatter3d\":[{\"line\":{\"colorbar\":{\"outlinewidth\":0,\"ticks\":\"\"}},\"marker\":{\"colorbar\":{\"outlinewidth\":0,\"ticks\":\"\"}},\"type\":\"scatter3d\"}],\"scattercarpet\":[{\"marker\":{\"colorbar\":{\"outlinewidth\":0,\"ticks\":\"\"}},\"type\":\"scattercarpet\"}],\"scattergeo\":[{\"marker\":{\"colorbar\":{\"outlinewidth\":0,\"ticks\":\"\"}},\"type\":\"scattergeo\"}],\"scattergl\":[{\"marker\":{\"colorbar\":{\"outlinewidth\":0,\"ticks\":\"\"}},\"type\":\"scattergl\"}],\"scattermapbox\":[{\"marker\":{\"colorbar\":{\"outlinewidth\":0,\"ticks\":\"\"}},\"type\":\"scattermapbox\"}],\"scatterpolargl\":[{\"marker\":{\"colorbar\":{\"outlinewidth\":0,\"ticks\":\"\"}},\"type\":\"scatterpolargl\"}],\"scatterpolar\":[{\"marker\":{\"colorbar\":{\"outlinewidth\":0,\"ticks\":\"\"}},\"type\":\"scatterpolar\"}],\"scatter\":[{\"marker\":{\"colorbar\":{\"outlinewidth\":0,\"ticks\":\"\"}},\"type\":\"scatter\"}],\"scatterternary\":[{\"marker\":{\"colorbar\":{\"outlinewidth\":0,\"ticks\":\"\"}},\"type\":\"scatterternary\"}],\"surface\":[{\"colorbar\":{\"outlinewidth\":0,\"ticks\":\"\"},\"colorscale\":[[0.0,\"#0d0887\"],[0.1111111111111111,\"#46039f\"],[0.2222222222222222,\"#7201a8\"],[0.3333333333333333,\"#9c179e\"],[0.4444444444444444,\"#bd3786\"],[0.5555555555555556,\"#d8576b\"],[0.6666666666666666,\"#ed7953\"],[0.7777777777777778,\"#fb9f3a\"],[0.8888888888888888,\"#fdca26\"],[1.0,\"#f0f921\"]],\"type\":\"surface\"}],\"table\":[{\"cells\":{\"fill\":{\"color\":\"#EBF0F8\"},\"line\":{\"color\":\"white\"}},\"header\":{\"fill\":{\"color\":\"#C8D4E3\"},\"line\":{\"color\":\"white\"}},\"type\":\"table\"}]},\"layout\":{\"annotationdefaults\":{\"arrowcolor\":\"#2a3f5f\",\"arrowhead\":0,\"arrowwidth\":1},\"autotypenumbers\":\"strict\",\"coloraxis\":{\"colorbar\":{\"outlinewidth\":0,\"ticks\":\"\"}},\"colorscale\":{\"diverging\":[[0,\"#8e0152\"],[0.1,\"#c51b7d\"],[0.2,\"#de77ae\"],[0.3,\"#f1b6da\"],[0.4,\"#fde0ef\"],[0.5,\"#f7f7f7\"],[0.6,\"#e6f5d0\"],[0.7,\"#b8e186\"],[0.8,\"#7fbc41\"],[0.9,\"#4d9221\"],[1,\"#276419\"]],\"sequential\":[[0.0,\"#0d0887\"],[0.1111111111111111,\"#46039f\"],[0.2222222222222222,\"#7201a8\"],[0.3333333333333333,\"#9c179e\"],[0.4444444444444444,\"#bd3786\"],[0.5555555555555556,\"#d8576b\"],[0.6666666666666666,\"#ed7953\"],[0.7777777777777778,\"#fb9f3a\"],[0.8888888888888888,\"#fdca26\"],[1.0,\"#f0f921\"]],\"sequentialminus\":[[0.0,\"#0d0887\"],[0.1111111111111111,\"#46039f\"],[0.2222222222222222,\"#7201a8\"],[0.3333333333333333,\"#9c179e\"],[0.4444444444444444,\"#bd3786\"],[0.5555555555555556,\"#d8576b\"],[0.6666666666666666,\"#ed7953\"],[0.7777777777777778,\"#fb9f3a\"],[0.8888888888888888,\"#fdca26\"],[1.0,\"#f0f921\"]]},\"colorway\":[\"#636efa\",\"#EF553B\",\"#00cc96\",\"#ab63fa\",\"#FFA15A\",\"#19d3f3\",\"#FF6692\",\"#B6E880\",\"#FF97FF\",\"#FECB52\"],\"font\":{\"color\":\"#2a3f5f\"},\"geo\":{\"bgcolor\":\"white\",\"lakecolor\":\"white\",\"landcolor\":\"#E5ECF6\",\"showlakes\":true,\"showland\":true,\"subunitcolor\":\"white\"},\"hoverlabel\":{\"align\":\"left\"},\"hovermode\":\"closest\",\"mapbox\":{\"style\":\"light\"},\"paper_bgcolor\":\"white\",\"plot_bgcolor\":\"#E5ECF6\",\"polar\":{\"angularaxis\":{\"gridcolor\":\"white\",\"linecolor\":\"white\",\"ticks\":\"\"},\"bgcolor\":\"#E5ECF6\",\"radialaxis\":{\"gridcolor\":\"white\",\"linecolor\":\"white\",\"ticks\":\"\"}},\"scene\":{\"xaxis\":{\"backgroundcolor\":\"#E5ECF6\",\"gridcolor\":\"white\",\"gridwidth\":2,\"linecolor\":\"white\",\"showbackground\":true,\"ticks\":\"\",\"zerolinecolor\":\"white\"},\"yaxis\":{\"backgroundcolor\":\"#E5ECF6\",\"gridcolor\":\"white\",\"gridwidth\":2,\"linecolor\":\"white\",\"showbackground\":true,\"ticks\":\"\",\"zerolinecolor\":\"white\"},\"zaxis\":{\"backgroundcolor\":\"#E5ECF6\",\"gridcolor\":\"white\",\"gridwidth\":2,\"linecolor\":\"white\",\"showbackground\":true,\"ticks\":\"\",\"zerolinecolor\":\"white\"}},\"shapedefaults\":{\"line\":{\"color\":\"#2a3f5f\"}},\"ternary\":{\"aaxis\":{\"gridcolor\":\"white\",\"linecolor\":\"white\",\"ticks\":\"\"},\"baxis\":{\"gridcolor\":\"white\",\"linecolor\":\"white\",\"ticks\":\"\"},\"bgcolor\":\"#E5ECF6\",\"caxis\":{\"gridcolor\":\"white\",\"linecolor\":\"white\",\"ticks\":\"\"}},\"title\":{\"x\":0.05},\"xaxis\":{\"automargin\":true,\"gridcolor\":\"white\",\"linecolor\":\"white\",\"ticks\":\"\",\"title\":{\"standoff\":15},\"zerolinecolor\":\"white\",\"zerolinewidth\":2},\"yaxis\":{\"automargin\":true,\"gridcolor\":\"white\",\"linecolor\":\"white\",\"ticks\":\"\",\"title\":{\"standoff\":15},\"zerolinecolor\":\"white\",\"zerolinewidth\":2}}},\"title\":{\"text\":\"Raisedhands Parcentage\"}},                        {\"responsive\": true}                    ).then(function(){\n",
       "                            \n",
       "var gd = document.getElementById('97f3ed2f-1c60-4955-ae77-2b82902c12fd');\n",
       "var x = new MutationObserver(function (mutations, observer) {{\n",
       "        var display = window.getComputedStyle(gd).display;\n",
       "        if (!display || display === 'none') {{\n",
       "            console.log([gd, 'removed!']);\n",
       "            Plotly.purge(gd);\n",
       "            observer.disconnect();\n",
       "        }}\n",
       "}});\n",
       "\n",
       "// Listen for the removal of the full notebook cells\n",
       "var notebookContainer = gd.closest('#notebook-container');\n",
       "if (notebookContainer) {{\n",
       "    x.observe(notebookContainer, {childList: true});\n",
       "}}\n",
       "\n",
       "// Listen for the clearing of the current output cell\n",
       "var outputEl = gd.closest('.output');\n",
       "if (outputEl) {{\n",
       "    x.observe(outputEl, {childList: true});\n",
       "}}\n",
       "\n",
       "                        })                };                });            </script>        </div>"
      ]
     },
     "metadata": {},
     "output_type": "display_data"
    }
   ],
   "source": [
    "#print('Parcentage',df.raisedhands.value_counts(normalize=True))\n",
    "#df.raisedhands.value_counts(normalize=True).plot(kind='bar')\n",
    "color_brewer = ['#41B5A3','#FFAF87','#FF8E72','#ED6A5E','#377771','#E89005','#C6000D','#000000','#05668D','#028090','#9FD35C',\n",
    "                '#02C39A','#F0F3BD','#41B5A3','#FF6F59','#254441','#B2B09B','#EF3054','#9D9CE8','#0F4777','#5F67DD','#235077','#CCE4F9','#1748D1',\n",
    "                '#8BB3D6','#467196','#F2C4A2','#F2B1A4','#C42746','#330C25']\n",
    "fig = {\n",
    "  \"data\": [\n",
    "    {\n",
    "      \"values\": student[\"raisedhands\"].value_counts().values,\n",
    "      \"labels\": student[\"raisedhands\"].value_counts().index,\n",
    "      \"domain\": {\"x\": [0, .95]},\n",
    "      \"name\": \"Raisedhands Parcentage\",\n",
    "      \"hoverinfo\":\"label+percent+name\",\n",
    "      \"hole\": .7,\n",
    "      \"type\": \"pie\",\n",
    "      \"marker\": {\"colors\": [i for i in reversed(color_brewer)]},\n",
    "      \"textfont\": {\"color\": \"#FFFFFF\"}\n",
    "    }],\n",
    "  \"layout\": {\n",
    "        \"title\":\"Raisedhands Parcentage\",\n",
    "        \"annotations\": [\n",
    "            {\n",
    "                \"font\": {\n",
    "                    \"size\": 15\n",
    "                },\n",
    "                \"showarrow\": False,\n",
    "                \"text\": \"Raisedhands Parcentage\",\n",
    "                \"x\": 0.4,\n",
    "                \"y\": 0.5\n",
    "            }\n",
    "        ]\n",
    "    }\n",
    "}\n",
    "iplot(fig, filename='donut')"
   ]
  },
  {
   "cell_type": "code",
   "execution_count": 26,
   "id": "3f19a1da",
   "metadata": {
    "execution": {
     "iopub.execute_input": "2022-09-05T11:31:14.970558Z",
     "iopub.status.busy": "2022-09-05T11:31:14.969631Z",
     "iopub.status.idle": "2022-09-05T11:31:14.976324Z",
     "shell.execute_reply": "2022-09-05T11:31:14.977137Z",
     "shell.execute_reply.started": "2022-09-05T11:18:03.496543Z"
    },
    "papermill": {
     "duration": 0.097424,
     "end_time": "2022-09-05T11:31:14.977355",
     "exception": false,
     "start_time": "2022-09-05T11:31:14.879931",
     "status": "completed"
    },
    "tags": []
   },
   "outputs": [
    {
     "data": {
      "text/plain": [
       "Good    292\n",
       "Bad     188\n",
       "Name: ParentschoolSatisfaction, dtype: int64"
      ]
     },
     "execution_count": 26,
     "metadata": {},
     "output_type": "execute_result"
    }
   ],
   "source": [
    "student['ParentschoolSatisfaction'].value_counts()"
   ]
  },
  {
   "cell_type": "code",
   "execution_count": 27,
   "id": "9171185d",
   "metadata": {
    "execution": {
     "iopub.execute_input": "2022-09-05T11:31:15.159692Z",
     "iopub.status.busy": "2022-09-05T11:31:15.159000Z",
     "iopub.status.idle": "2022-09-05T11:31:15.348713Z",
     "shell.execute_reply": "2022-09-05T11:31:15.347417Z",
     "shell.execute_reply.started": "2022-09-05T11:18:03.505448Z"
    },
    "papermill": {
     "duration": 0.280751,
     "end_time": "2022-09-05T11:31:15.348932",
     "exception": false,
     "start_time": "2022-09-05T11:31:15.068181",
     "status": "completed"
    },
    "tags": []
   },
   "outputs": [
    {
     "name": "stdout",
     "output_type": "stream",
     "text": [
      "Parcentage Good    0.608333\n",
      "Bad     0.391667\n",
      "Name: ParentschoolSatisfaction, dtype: float64\n"
     ]
    },
    {
     "data": {
      "text/plain": [
       "<AxesSubplot:>"
      ]
     },
     "execution_count": 27,
     "metadata": {},
     "output_type": "execute_result"
    },
    {
     "data": {
      "image/png": "[encoded data removed]",
      "text/plain": [
       "<Figure size 432x288 with 1 Axes>"
      ]
     },
     "metadata": {
      "needs_background": "light"
     },
     "output_type": "display_data"
    }
   ],
   "source": [
    "print('Parcentage',student.ParentschoolSatisfaction.value_counts(normalize=True))\n",
    "student.ParentschoolSatisfaction.value_counts(normalize=True).plot(kind='bar')"
   ]
  },
  {
   "cell_type": "code",
   "execution_count": 28,
   "id": "0acbc49f",
   "metadata": {
    "execution": {
     "iopub.execute_input": "2022-09-05T11:31:15.554431Z",
     "iopub.status.busy": "2022-09-05T11:31:15.553628Z",
     "iopub.status.idle": "2022-09-05T11:31:15.556818Z",
     "shell.execute_reply": "2022-09-05T11:31:15.557323Z",
     "shell.execute_reply.started": "2022-09-05T11:18:03.706394Z"
    },
    "papermill": {
     "duration": 0.10969,
     "end_time": "2022-09-05T11:31:15.557495",
     "exception": false,
     "start_time": "2022-09-05T11:31:15.447805",
     "status": "completed"
    },
    "tags": []
   },
   "outputs": [
    {
     "data": {
      "text/plain": [
       "Yes    270\n",
       "No     210\n",
       "Name: ParentAnsweringSurvey, dtype: int64"
      ]
     },
     "execution_count": 28,
     "metadata": {},
     "output_type": "execute_result"
    }
   ],
   "source": [
    "student['ParentAnsweringSurvey'].value_counts()"
   ]
  },
  {
   "cell_type": "code",
   "execution_count": 29,
   "id": "ba141e80",
   "metadata": {
    "execution": {
     "iopub.execute_input": "2022-09-05T11:31:15.740180Z",
     "iopub.status.busy": "2022-09-05T11:31:15.739209Z",
     "iopub.status.idle": "2022-09-05T11:31:15.921606Z",
     "shell.execute_reply": "2022-09-05T11:31:15.922182Z",
     "shell.execute_reply.started": "2022-09-05T11:18:03.717115Z"
    },
    "papermill": {
     "duration": 0.2755,
     "end_time": "2022-09-05T11:31:15.922365",
     "exception": false,
     "start_time": "2022-09-05T11:31:15.646865",
     "status": "completed"
    },
    "tags": []
   },
   "outputs": [
    {
     "name": "stdout",
     "output_type": "stream",
     "text": [
      "Parcentage Yes    0.5625\n",
      "No     0.4375\n",
      "Name: ParentAnsweringSurvey, dtype: float64\n"
     ]
    },
    {
     "data": {
      "text/plain": [
       "<AxesSubplot:>"
      ]
     },
     "execution_count": 29,
     "metadata": {},
     "output_type": "execute_result"
    },
    {
     "data": {
      "image/png": "[encoded data removed]",
      "text/plain": [
       "<Figure size 432x288 with 1 Axes>"
      ]
     },
     "metadata": {
      "needs_background": "light"
     },
     "output_type": "display_data"
    }
   ],
   "source": [
    "print('Parcentage',student.ParentAnsweringSurvey.value_counts(normalize=True))\n",
    "student.ParentAnsweringSurvey.value_counts(normalize=True).plot(kind='bar')"
   ]
  },
  {
   "cell_type": "code",
   "execution_count": 30,
   "id": "c088250e",
   "metadata": {
    "execution": {
     "iopub.execute_input": "2022-09-05T11:31:16.112056Z",
     "iopub.status.busy": "2022-09-05T11:31:16.111388Z",
     "iopub.status.idle": "2022-09-05T11:31:16.115588Z",
     "shell.execute_reply": "2022-09-05T11:31:16.116085Z",
     "shell.execute_reply.started": "2022-09-05T11:18:03.916998Z"
    },
    "papermill": {
     "duration": 0.100837,
     "end_time": "2022-09-05T11:31:16.116271",
     "exception": false,
     "start_time": "2022-09-05T11:31:16.015434",
     "status": "completed"
    },
    "tags": []
   },
   "outputs": [
    {
     "data": {
      "text/plain": [
       "Under-7    289\n",
       "Above-7    191\n",
       "Name: StudentAbsenceDays, dtype: int64"
      ]
     },
     "execution_count": 30,
     "metadata": {},
     "output_type": "execute_result"
    }
   ],
   "source": [
    "student['StudentAbsenceDays'].value_counts()"
   ]
  },
  {
   "cell_type": "code",
   "execution_count": 31,
   "id": "1c7b684e",
   "metadata": {
    "execution": {
     "iopub.execute_input": "2022-09-05T11:31:16.301576Z",
     "iopub.status.busy": "2022-09-05T11:31:16.300882Z",
     "iopub.status.idle": "2022-09-05T11:31:16.504701Z",
     "shell.execute_reply": "2022-09-05T11:31:16.504101Z",
     "shell.execute_reply.started": "2022-09-05T11:18:03.928139Z"
    },
    "papermill": {
     "duration": 0.297374,
     "end_time": "2022-09-05T11:31:16.504907",
     "exception": false,
     "start_time": "2022-09-05T11:31:16.207533",
     "status": "completed"
    },
    "tags": []
   },
   "outputs": [
    {
     "name": "stdout",
     "output_type": "stream",
     "text": [
      "Parcentage Under-7    0.602083\n",
      "Above-7    0.397917\n",
      "Name: StudentAbsenceDays, dtype: float64\n"
     ]
    },
    {
     "data": {
      "text/plain": [
       "<AxesSubplot:>"
      ]
     },
     "execution_count": 31,
     "metadata": {},
     "output_type": "execute_result"
    },
    {
     "data": {
      "image/png": "[encoded data removed]",
      "text/plain": [
       "<Figure size 432x288 with 1 Axes>"
      ]
     },
     "metadata": {
      "needs_background": "light"
     },
     "output_type": "display_data"
    }
   ],
   "source": [
    "print('Parcentage',student.StudentAbsenceDays.value_counts(normalize=True))\n",
    "student.StudentAbsenceDays.value_counts(normalize=True).plot(kind='bar')"
   ]
  },
  {
   "cell_type": "code",
   "execution_count": 32,
   "id": "412b68be",
   "metadata": {
    "execution": {
     "iopub.execute_input": "2022-09-05T11:31:16.712261Z",
     "iopub.status.busy": "2022-09-05T11:31:16.711318Z",
     "iopub.status.idle": "2022-09-05T11:31:16.718548Z",
     "shell.execute_reply": "2022-09-05T11:31:16.719060Z",
     "shell.execute_reply.started": "2022-09-05T11:18:04.076389Z"
    },
    "papermill": {
     "duration": 0.102366,
     "end_time": "2022-09-05T11:31:16.719238",
     "exception": false,
     "start_time": "2022-09-05T11:31:16.616872",
     "status": "completed"
    },
    "tags": []
   },
   "outputs": [
    {
     "data": {
      "text/plain": [
       "M    211\n",
       "H    142\n",
       "L    127\n",
       "Name: Class, dtype: int64"
      ]
     },
     "execution_count": 32,
     "metadata": {},
     "output_type": "execute_result"
    }
   ],
   "source": [
    "student['Class'].value_counts()"
   ]
  },
  {
   "cell_type": "code",
   "execution_count": 33,
   "id": "7ada1c75",
   "metadata": {
    "execution": {
     "iopub.execute_input": "2022-09-05T11:31:16.906322Z",
     "iopub.status.busy": "2022-09-05T11:31:16.905367Z",
     "iopub.status.idle": "2022-09-05T11:31:17.036645Z",
     "shell.execute_reply": "2022-09-05T11:31:17.037245Z",
     "shell.execute_reply.started": "2022-09-05T11:18:04.087842Z"
    },
    "papermill": {
     "duration": 0.227086,
     "end_time": "2022-09-05T11:31:17.037433",
     "exception": false,
     "start_time": "2022-09-05T11:31:16.810347",
     "status": "completed"
    },
    "tags": []
   },
   "outputs": [
    {
     "name": "stdout",
     "output_type": "stream",
     "text": [
      "Parcentage M    0.439583\n",
      "H    0.295833\n",
      "L    0.264583\n",
      "Name: Class, dtype: float64\n"
     ]
    },
    {
     "data": {
      "text/plain": [
       "<AxesSubplot:>"
      ]
     },
     "execution_count": 33,
     "metadata": {},
     "output_type": "execute_result"
    },
    {
     "data": {
      "image/png": "[encoded data removed]",
      "text/plain": [
       "<Figure size 432x288 with 1 Axes>"
      ]
     },
     "metadata": {
      "needs_background": "light"
     },
     "output_type": "display_data"
    }
   ],
   "source": [
    "print('Parcentage',student.Class.value_counts(normalize=True))\n",
    "student.Class.value_counts(normalize=True).plot(kind='bar')"
   ]
  },
  {
   "cell_type": "markdown",
   "id": "fecfeb52",
   "metadata": {
    "papermill": {
     "duration": 0.093974,
     "end_time": "2022-09-05T11:31:17.227616",
     "exception": false,
     "start_time": "2022-09-05T11:31:17.133642",
     "status": "completed"
    },
    "tags": []
   },
   "source": [
    "# Exploring the data"
   ]
  },
  {
   "cell_type": "code",
   "execution_count": 34,
   "id": "8c140049",
   "metadata": {
    "execution": {
     "iopub.execute_input": "2022-09-05T11:31:17.424025Z",
     "iopub.status.busy": "2022-09-05T11:31:17.423010Z",
     "iopub.status.idle": "2022-09-05T11:31:17.570336Z",
     "shell.execute_reply": "2022-09-05T11:31:17.571262Z",
     "shell.execute_reply.started": "2022-09-05T11:22:21.356007Z"
    },
    "papermill": {
     "duration": 0.24753,
     "end_time": "2022-09-05T11:31:17.571448",
     "exception": false,
     "start_time": "2022-09-05T11:31:17.323918",
     "status": "completed"
    },
    "tags": []
   },
   "outputs": [
    {
     "name": "stderr",
     "output_type": "stream",
     "text": [
      "/opt/conda/lib/python3.7/site-packages/seaborn/_decorators.py:43: FutureWarning:\n",
      "\n",
      "Pass the following variable as a keyword arg: x. From version 0.12, the only valid positional argument will be `data`, and passing other arguments without an explicit keyword will result in an error or misinterpretation.\n",
      "\n"
     ]
    },
    {
     "data": {
      "text/plain": [
       "<AxesSubplot:xlabel='Class', ylabel='count'>"
      ]
     },
     "execution_count": 34,
     "metadata": {},
     "output_type": "execute_result"
    },
    {
     "data": {
      "image/png": "[encoded data removed]",
      "text/plain": [
       "<Figure size 432x288 with 1 Axes>"
      ]
     },
     "metadata": {
      "needs_background": "light"
     },
     "output_type": "display_data"
    }
   ],
   "source": [
    "# Count of students of each class\n",
    "sns.countplot(student['Class'])"
   ]
  },
  {
   "cell_type": "code",
   "execution_count": 35,
   "id": "8bdfaf68",
   "metadata": {
    "execution": {
     "iopub.execute_input": "2022-09-05T11:31:17.766117Z",
     "iopub.status.busy": "2022-09-05T11:31:17.765155Z",
     "iopub.status.idle": "2022-09-05T11:31:17.937625Z",
     "shell.execute_reply": "2022-09-05T11:31:17.937072Z",
     "shell.execute_reply.started": "2022-09-05T11:18:04.370376Z"
    },
    "papermill": {
     "duration": 0.270308,
     "end_time": "2022-09-05T11:31:17.937801",
     "exception": false,
     "start_time": "2022-09-05T11:31:17.667493",
     "status": "completed"
    },
    "tags": []
   },
   "outputs": [
    {
     "data": {
      "text/plain": [
       "<AxesSubplot:xlabel='Class', ylabel='count'>"
      ]
     },
     "execution_count": 35,
     "metadata": {},
     "output_type": "execute_result"
    },
    {
     "data": {
      "image/png": "[encoded data removed]",
      "text/plain": [
       "<Figure size 432x288 with 1 Axes>"
      ]
     },
     "metadata": {
      "needs_background": "light"
     },
     "output_type": "display_data"
    }
   ],
   "source": [
    "# Student class by gender\n",
    "sns.countplot(x='Class',hue='gender',data=student,palette='coolwarm')"
   ]
  },
  {
   "cell_type": "code",
   "execution_count": 36,
   "id": "b36d6c50",
   "metadata": {
    "execution": {
     "iopub.execute_input": "2022-09-05T11:31:18.141598Z",
     "iopub.status.busy": "2022-09-05T11:31:18.140894Z",
     "iopub.status.idle": "2022-09-05T11:31:23.035600Z",
     "shell.execute_reply": "2022-09-05T11:31:23.036122Z",
     "shell.execute_reply.started": "2022-09-05T11:18:04.553575Z"
    },
    "papermill": {
     "duration": 5.002895,
     "end_time": "2022-09-05T11:31:23.036300",
     "exception": false,
     "start_time": "2022-09-05T11:31:18.033405",
     "status": "completed"
    },
    "tags": []
   },
   "outputs": [
    {
     "data": {
      "text/plain": [
       "<seaborn.axisgrid.PairGrid at 0x7f5e3f31f250>"
      ]
     },
     "execution_count": 36,
     "metadata": {},
     "output_type": "execute_result"
    },
    {
     "data": {
      "image/png": "[encoded data removed]",
      "text/plain": [
       "<Figure size 764.625x720 with 20 Axes>"
      ]
     },
     "metadata": {
      "needs_background": "light"
     },
     "output_type": "display_data"
    }
   ],
   "source": [
    "# Countplot based on the student Class\n",
    "sns.pairplot(student,hue='Class')"
   ]
  },
  {
   "cell_type": "code",
   "execution_count": 37,
   "id": "a148995c",
   "metadata": {
    "execution": {
     "iopub.execute_input": "2022-09-05T11:31:23.262133Z",
     "iopub.status.busy": "2022-09-05T11:31:23.261148Z",
     "iopub.status.idle": "2022-09-05T11:31:23.683879Z",
     "shell.execute_reply": "2022-09-05T11:31:23.684391Z",
     "shell.execute_reply.started": "2022-09-05T11:27:32.487469Z"
    },
    "papermill": {
     "duration": 0.537175,
     "end_time": "2022-09-05T11:31:23.684567",
     "exception": false,
     "start_time": "2022-09-05T11:31:23.147392",
     "status": "completed"
    },
    "tags": []
   },
   "outputs": [
    {
     "data": {
      "text/plain": [
       "<AxesSubplot:xlabel='NationalITy', ylabel='count'>"
      ]
     },
     "execution_count": 37,
     "metadata": {},
     "output_type": "execute_result"
    },
    {
     "data": {
      "image/png": "[encoded data removed]",
      "text/plain": [
       "<Figure size 720x720 with 2 Axes>"
      ]
     },
     "metadata": {
      "needs_background": "light"
     },
     "output_type": "display_data"
    }
   ],
   "source": [
    "fig, (axis1, axis2)  = plt.subplots(2, 1,figsize=(10,10))\n",
    "sns.countplot(x='Topic', data=student, ax=axis1)\n",
    "sns.countplot(x='NationalITy', data=student, ax=axis2)"
   ]
  },
  {
   "cell_type": "markdown",
   "id": "55ef5007",
   "metadata": {
    "papermill": {
     "duration": 0.108608,
     "end_time": "2022-09-05T11:31:23.900723",
     "exception": false,
     "start_time": "2022-09-05T11:31:23.792115",
     "status": "completed"
    },
    "tags": []
   },
   "source": [
    "# Feature Engineering"
   ]
  },
  {
   "cell_type": "code",
   "execution_count": 38,
   "id": "319b88e8",
   "metadata": {
    "execution": {
     "iopub.execute_input": "2022-09-05T11:31:24.121245Z",
     "iopub.status.busy": "2022-09-05T11:31:24.120296Z",
     "iopub.status.idle": "2022-09-05T11:31:24.135123Z",
     "shell.execute_reply": "2022-09-05T11:31:24.135649Z",
     "shell.execute_reply.started": "2022-09-05T11:18:09.565475Z"
    },
    "papermill": {
     "duration": 0.1265,
     "end_time": "2022-09-05T11:31:24.135838",
     "exception": false,
     "start_time": "2022-09-05T11:31:24.009338",
     "status": "completed"
    },
    "tags": []
   },
   "outputs": [],
   "source": [
    "# Replacing categorical values to numerical\n",
    "\n",
    "student['gender'].replace('M', 0,inplace=True)\n",
    "student['gender'].replace('F', 1,inplace=True)\n",
    "\n",
    "# Or we can use get_dummies to convert categorical values and concatenate them later\n",
    "nat = pd.get_dummies(student['NationalITy'])\n",
    "sid = pd.get_dummies(student['StageID'])\n",
    "gid = pd.get_dummies(student['GradeID'])\n",
    "secid = pd.get_dummies(student['SectionID'])\n",
    "topic = pd.get_dummies(student['Topic'])\n",
    "semester = pd.get_dummies(student['Semester'])\n",
    "rel = pd.get_dummies(student['Relation'])\n",
    "pas = pd.get_dummies(student['ParentAnsweringSurvey'])\n",
    "pss = pd.get_dummies(student['ParentschoolSatisfaction'])\n",
    "sab = pd.get_dummies(student['StudentAbsenceDays'])"
   ]
  },
  {
   "cell_type": "code",
   "execution_count": 39,
   "id": "ea856a06",
   "metadata": {
    "execution": {
     "iopub.execute_input": "2022-09-05T11:31:24.357525Z",
     "iopub.status.busy": "2022-09-05T11:31:24.356527Z",
     "iopub.status.idle": "2022-09-05T11:31:24.362277Z",
     "shell.execute_reply": "2022-09-05T11:31:24.362718Z",
     "shell.execute_reply.started": "2022-09-05T11:18:09.585891Z"
    },
    "papermill": {
     "duration": 0.119398,
     "end_time": "2022-09-05T11:31:24.362925",
     "exception": false,
     "start_time": "2022-09-05T11:31:24.243527",
     "status": "completed"
    },
    "tags": []
   },
   "outputs": [],
   "source": [
    "#Drop useless columns & columns we need to replace with variables above\n",
    "student.drop(['NationalITy','PlaceofBirth','PlaceofBirth','StageID','GradeID','SectionID','Topic','Semester',\n",
    "              'Relation','ParentAnsweringSurvey','ParentschoolSatisfaction','StudentAbsenceDays'],axis=1,inplace=True)"
   ]
  },
  {
   "cell_type": "code",
   "execution_count": 40,
   "id": "ca13d27c",
   "metadata": {
    "execution": {
     "iopub.execute_input": "2022-09-05T11:31:24.592016Z",
     "iopub.status.busy": "2022-09-05T11:31:24.591219Z",
     "iopub.status.idle": "2022-09-05T11:31:24.594068Z",
     "shell.execute_reply": "2022-09-05T11:31:24.593545Z",
     "shell.execute_reply.started": "2022-09-05T11:18:09.596688Z"
    },
    "papermill": {
     "duration": 0.120529,
     "end_time": "2022-09-05T11:31:24.594214",
     "exception": false,
     "start_time": "2022-09-05T11:31:24.473685",
     "status": "completed"
    },
    "tags": []
   },
   "outputs": [],
   "source": [
    "# Concatenating the variables we created above \n",
    "student = pd.concat([student,nat,sid,gid,secid,topic,semester,rel,pas,pss,sab],axis=1)"
   ]
  },
  {
   "cell_type": "markdown",
   "id": "075d70c7",
   "metadata": {
    "papermill": {
     "duration": 0.10872,
     "end_time": "2022-09-05T11:31:24.812061",
     "exception": false,
     "start_time": "2022-09-05T11:31:24.703341",
     "status": "completed"
    },
    "tags": []
   },
   "source": [
    "# Feature selection"
   ]
  },
  {
   "cell_type": "code",
   "execution_count": 41,
   "id": "6b54af63",
   "metadata": {
    "execution": {
     "iopub.execute_input": "2022-09-05T11:31:25.038751Z",
     "iopub.status.busy": "2022-09-05T11:31:25.037831Z",
     "iopub.status.idle": "2022-09-05T11:31:25.041891Z",
     "shell.execute_reply": "2022-09-05T11:31:25.041272Z",
     "shell.execute_reply.started": "2022-09-05T11:18:09.608490Z"
    },
    "papermill": {
     "duration": 0.121406,
     "end_time": "2022-09-05T11:31:25.042041",
     "exception": false,
     "start_time": "2022-09-05T11:31:24.920635",
     "status": "completed"
    },
    "scrolled": true,
    "tags": []
   },
   "outputs": [
    {
     "data": {
      "text/plain": [
       "Index(['gender', 'raisedhands', 'VisITedResources', 'AnnouncementsView',\n",
       "       'Discussion', 'Class', 'Egypt', 'Iran', 'Iraq', 'Jordan', 'KW', 'Lybia',\n",
       "       'Morocco', 'Palestine', 'SaudiArabia', 'Syria', 'Tunis', 'USA',\n",
       "       'lebanon', 'venzuela', 'HighSchool', 'MiddleSchool', 'lowerlevel',\n",
       "       'G-02', 'G-04', 'G-05', 'G-06', 'G-07', 'G-08', 'G-09', 'G-10', 'G-11',\n",
       "       'G-12', 'A', 'B', 'C', 'Arabic', 'Biology', 'Chemistry', 'English',\n",
       "       'French', 'Geology', 'History', 'IT', 'Math', 'Quran', 'Science',\n",
       "       'Spanish', 'F', 'S', 'Father', 'Mum', 'No', 'Yes', 'Bad', 'Good',\n",
       "       'Above-7', 'Under-7'],\n",
       "      dtype='object')"
      ]
     },
     "execution_count": 41,
     "metadata": {},
     "output_type": "execute_result"
    }
   ],
   "source": [
    "# Check all the columns\n",
    "student.columns"
   ]
  },
  {
   "cell_type": "code",
   "execution_count": 42,
   "id": "7698e016",
   "metadata": {
    "execution": {
     "iopub.execute_input": "2022-09-05T11:31:25.271306Z",
     "iopub.status.busy": "2022-09-05T11:31:25.270415Z",
     "iopub.status.idle": "2022-09-05T11:31:25.273706Z",
     "shell.execute_reply": "2022-09-05T11:31:25.273058Z",
     "shell.execute_reply.started": "2022-09-05T11:18:09.625059Z"
    },
    "papermill": {
     "duration": 0.120868,
     "end_time": "2022-09-05T11:31:25.273875",
     "exception": false,
     "start_time": "2022-09-05T11:31:25.153007",
     "status": "completed"
    },
    "tags": []
   },
   "outputs": [],
   "source": [
    "Label = student['Class'] # Class is the value we want to predict\n",
    "\n",
    "Features = student[['gender', 'raisedhands', 'VisITedResources', 'AnnouncementsView',\n",
    "       'Discussion','Father', 'Mum', 'No', 'Yes', 'Bad', 'Good',\n",
    "       'Above-7', 'Under-7']]\n",
    "\n",
    "\n",
    "# We can also use the following method\n",
    "\n",
    "#Features = student.drop(['feature a','feature b' .... 'feature n'],axis=1)"
   ]
  },
  {
   "cell_type": "markdown",
   "id": "631f0c24",
   "metadata": {
    "papermill": {
     "duration": 0.11185,
     "end_time": "2022-09-05T11:31:25.497312",
     "exception": false,
     "start_time": "2022-09-05T11:31:25.385462",
     "status": "completed"
    },
    "tags": []
   },
   "source": [
    "# Scaling the data"
   ]
  },
  {
   "cell_type": "code",
   "execution_count": 43,
   "id": "172f4ab7",
   "metadata": {
    "execution": {
     "iopub.execute_input": "2022-09-05T11:31:25.726037Z",
     "iopub.status.busy": "2022-09-05T11:31:25.724988Z",
     "iopub.status.idle": "2022-09-05T11:31:25.727584Z",
     "shell.execute_reply": "2022-09-05T11:31:25.726954Z",
     "shell.execute_reply.started": "2022-09-05T11:18:09.636447Z"
    },
    "papermill": {
     "duration": 0.121284,
     "end_time": "2022-09-05T11:31:25.727725",
     "exception": false,
     "start_time": "2022-09-05T11:31:25.606441",
     "status": "completed"
    },
    "tags": []
   },
   "outputs": [],
   "source": [
    "#Standardize features by removing the mean and scaling to unit variance\n",
    "scaler = StandardScaler()\n",
    "scaler.fit(Features)\n",
    "scaled = scaler.transform(Features)"
   ]
  },
  {
   "cell_type": "markdown",
   "id": "ed689d74",
   "metadata": {
    "papermill": {
     "duration": 0.108447,
     "end_time": "2022-09-05T11:31:25.945657",
     "exception": false,
     "start_time": "2022-09-05T11:31:25.837210",
     "status": "completed"
    },
    "tags": []
   },
   "source": [
    "# Train Test Split"
   ]
  },
  {
   "cell_type": "code",
   "execution_count": 44,
   "id": "19ccdb41",
   "metadata": {
    "execution": {
     "iopub.execute_input": "2022-09-05T11:31:26.174293Z",
     "iopub.status.busy": "2022-09-05T11:31:26.173305Z",
     "iopub.status.idle": "2022-09-05T11:31:26.176107Z",
     "shell.execute_reply": "2022-09-05T11:31:26.175458Z",
     "shell.execute_reply.started": "2022-09-05T11:18:09.654197Z"
    },
    "papermill": {
     "duration": 0.119903,
     "end_time": "2022-09-05T11:31:26.176249",
     "exception": false,
     "start_time": "2022-09-05T11:31:26.056346",
     "status": "completed"
    },
    "tags": []
   },
   "outputs": [],
   "source": [
    "X = scaled\n",
    "y = Label\n",
    "# split the data to 20% test,80% train with random state=42\n",
    "X_train, X_test, y_train, y_test = train_test_split(X, y, test_size=0.20, random_state=42)"
   ]
  },
  {
   "cell_type": "markdown",
   "id": "1c05bd4c",
   "metadata": {
    "papermill": {
     "duration": 0.108902,
     "end_time": "2022-09-05T11:31:26.394514",
     "exception": false,
     "start_time": "2022-09-05T11:31:26.285612",
     "status": "completed"
    },
    "tags": []
   },
   "source": [
    "# Training Models"
   ]
  },
  {
   "cell_type": "markdown",
   "id": "7e20baf4",
   "metadata": {
    "papermill": {
     "duration": 0.108965,
     "end_time": "2022-09-05T11:31:26.616805",
     "exception": false,
     "start_time": "2022-09-05T11:31:26.507840",
     "status": "completed"
    },
    "tags": []
   },
   "source": [
    "# Random Forest Classifier"
   ]
  },
  {
   "cell_type": "markdown",
   "id": "c58f6150",
   "metadata": {
    "papermill": {
     "duration": 0.108319,
     "end_time": "2022-09-05T11:31:26.834401",
     "exception": false,
     "start_time": "2022-09-05T11:31:26.726082",
     "status": "completed"
    },
    "tags": []
   },
   "source": [
    "### Finding best number of estimators"
   ]
  },
  {
   "cell_type": "code",
   "execution_count": 45,
   "id": "ce5023b7",
   "metadata": {
    "execution": {
     "iopub.execute_input": "2022-09-05T11:31:27.056260Z",
     "iopub.status.busy": "2022-09-05T11:31:27.055283Z",
     "iopub.status.idle": "2022-09-05T11:31:30.605695Z",
     "shell.execute_reply": "2022-09-05T11:31:30.606266Z",
     "shell.execute_reply.started": "2022-09-05T11:18:09.673033Z"
    },
    "papermill": {
     "duration": 3.663197,
     "end_time": "2022-09-05T11:31:30.606439",
     "exception": false,
     "start_time": "2022-09-05T11:31:26.943242",
     "status": "completed"
    },
    "tags": []
   },
   "outputs": [
    {
     "data": {
      "image/png": "[encoded data removed]",
      "text/plain": [
       "<Figure size 1440x720 with 1 Axes>"
      ]
     },
     "metadata": {
      "needs_background": "light"
     },
     "output_type": "display_data"
    }
   ],
   "source": [
    "err = [] # Array to save all error rates\n",
    "\n",
    "for i in range(1,20): # Loop to try all error rates from 1 to 40\n",
    "    rfe = RandomForestClassifier(n_estimators=i*10,random_state=42) # Create rfc with number of estimators with value i*10\n",
    "    rfe.fit(X_train,y_train) # Fit the model\n",
    "    errpred = rfe.predict(X_test) # Predict the value\n",
    "    err.append(np.mean(errpred != y_test)) #Add the value to the array\n",
    "    \n",
    "    \n",
    "# Plotting the value of estimators error rate using the method we created above to make it easier to choose an estimator value\n",
    "plt.figure(figsize=(20,10)) # Size of the figure\n",
    "plt.plot(range(1,20),err,color='blue',linestyle='dotted',marker='o',markerfacecolor='red',markersize=10)#plotting the values\n",
    "plt.title = 'Number of estimators VS Error Rates' #title\n",
    "plt.xlabel = 'Estimators' #X label\n",
    "plt.ylabel= 'Error Rate' # Y label\n",
    "plt.show()"
   ]
  },
  {
   "cell_type": "markdown",
   "id": "e37fb75d",
   "metadata": {
    "papermill": {
     "duration": 0.109891,
     "end_time": "2022-09-05T11:31:30.825610",
     "exception": false,
     "start_time": "2022-09-05T11:31:30.715719",
     "status": "completed"
    },
    "tags": []
   },
   "source": [
    "### Training the model "
   ]
  },
  {
   "cell_type": "code",
   "execution_count": 46,
   "id": "f339e71d",
   "metadata": {
    "execution": {
     "iopub.execute_input": "2022-09-05T11:31:31.057465Z",
     "iopub.status.busy": "2022-09-05T11:31:31.056729Z",
     "iopub.status.idle": "2022-09-05T11:31:31.194075Z",
     "shell.execute_reply": "2022-09-05T11:31:31.193497Z",
     "shell.execute_reply.started": "2022-09-05T11:18:13.212518Z"
    },
    "papermill": {
     "duration": 0.259001,
     "end_time": "2022-09-05T11:31:31.194239",
     "exception": false,
     "start_time": "2022-09-05T11:31:30.935238",
     "status": "completed"
    },
    "tags": []
   },
   "outputs": [],
   "source": [
    "rfc = RandomForestClassifier(n_estimators=80,max_features='auto', max_depth=9,min_samples_leaf=1,\n",
    "                             min_samples_split=2,bootstrap=True, random_state = 42)\n",
    "rfc.fit(X_train,y_train)\n",
    "rfcpred = rfc.predict(X_test)"
   ]
  },
  {
   "cell_type": "code",
   "execution_count": 47,
   "id": "b50d854f",
   "metadata": {
    "execution": {
     "iopub.execute_input": "2022-09-05T11:31:31.421434Z",
     "iopub.status.busy": "2022-09-05T11:31:31.420423Z",
     "iopub.status.idle": "2022-09-05T11:31:31.656609Z",
     "shell.execute_reply": "2022-09-05T11:31:31.656083Z",
     "shell.execute_reply.started": "2022-09-05T11:18:13.362376Z"
    },
    "papermill": {
     "duration": 0.350657,
     "end_time": "2022-09-05T11:31:31.656757",
     "exception": false,
     "start_time": "2022-09-05T11:31:31.306100",
     "status": "completed"
    },
    "tags": []
   },
   "outputs": [
    {
     "name": "stdout",
     "output_type": "stream",
     "text": [
      "Random Forest Classifier\n",
      "\n",
      "              precision    recall  f1-score   support\n",
      "\n",
      "           H       0.86      0.82      0.84        22\n",
      "           L       0.89      0.96      0.93        26\n",
      "           M       0.89      0.88      0.88        48\n",
      "\n",
      "    accuracy                           0.89        96\n",
      "   macro avg       0.88      0.88      0.88        96\n",
      "weighted avg       0.89      0.89      0.88        96\n",
      "\n",
      "\n",
      "\n",
      "Confusion matrix\n"
     ]
    },
    {
     "data": {
      "text/plain": [
       "<AxesSubplot:>"
      ]
     },
     "execution_count": 47,
     "metadata": {},
     "output_type": "execute_result"
    },
    {
     "data": {
      "image/png": "[encoded data removed]",
      "text/plain": [
       "<Figure size 432x288 with 2 Axes>"
      ]
     },
     "metadata": {
      "needs_background": "light"
     },
     "output_type": "display_data"
    }
   ],
   "source": [
    "print('Random Forest Classifier' + '\\n')\n",
    "print(classification_report(y_test,rfcpred))\n",
    "\n",
    "print('\\n')\n",
    "\n",
    "print('Confusion matrix')\n",
    "sns.heatmap(confusion_matrix(y_test,rfcpred),cmap='YlGn_r',annot=True,fmt='g')"
   ]
  },
  {
   "cell_type": "markdown",
   "id": "32733e0b",
   "metadata": {
    "papermill": {
     "duration": 0.111322,
     "end_time": "2022-09-05T11:31:31.880257",
     "exception": false,
     "start_time": "2022-09-05T11:31:31.768935",
     "status": "completed"
    },
    "tags": []
   },
   "source": [
    "# Support Vector Classifier"
   ]
  },
  {
   "cell_type": "code",
   "execution_count": 48,
   "id": "93c8ca99",
   "metadata": {
    "execution": {
     "iopub.execute_input": "2022-09-05T11:31:32.108627Z",
     "iopub.status.busy": "2022-09-05T11:31:32.107964Z",
     "iopub.status.idle": "2022-09-05T11:31:32.127361Z",
     "shell.execute_reply": "2022-09-05T11:31:32.126714Z",
     "shell.execute_reply.started": "2022-09-05T11:18:13.603797Z"
    },
    "papermill": {
     "duration": 0.135945,
     "end_time": "2022-09-05T11:31:32.127504",
     "exception": false,
     "start_time": "2022-09-05T11:31:31.991559",
     "status": "completed"
    },
    "tags": []
   },
   "outputs": [],
   "source": [
    "svc = SVC(C=100,random_state=42,gamma=1)\n",
    "svc.fit(X_train,y_train)\n",
    "svcpred = svc.predict(X_test)"
   ]
  },
  {
   "cell_type": "code",
   "execution_count": 49,
   "id": "04b1dfbb",
   "metadata": {
    "execution": {
     "iopub.execute_input": "2022-09-05T11:31:32.361256Z",
     "iopub.status.busy": "2022-09-05T11:31:32.360352Z",
     "iopub.status.idle": "2022-09-05T11:31:32.619797Z",
     "shell.execute_reply": "2022-09-05T11:31:32.619275Z",
     "shell.execute_reply.started": "2022-09-05T11:18:13.629454Z"
    },
    "papermill": {
     "duration": 0.380585,
     "end_time": "2022-09-05T11:31:32.619943",
     "exception": false,
     "start_time": "2022-09-05T11:31:32.239358",
     "status": "completed"
    },
    "tags": []
   },
   "outputs": [
    {
     "name": "stdout",
     "output_type": "stream",
     "text": [
      "Support Vector Classifier\n",
      "\n",
      "              precision    recall  f1-score   support\n",
      "\n",
      "           H       0.80      0.73      0.76        22\n",
      "           L       0.91      0.81      0.86        26\n",
      "           M       0.79      0.88      0.83        48\n",
      "\n",
      "    accuracy                           0.82        96\n",
      "   macro avg       0.84      0.80      0.82        96\n",
      "weighted avg       0.83      0.82      0.82        96\n",
      "\n",
      "\n",
      "\n",
      "Confusion matrix\n"
     ]
    },
    {
     "data": {
      "text/plain": [
       "<AxesSubplot:>"
      ]
     },
     "execution_count": 49,
     "metadata": {},
     "output_type": "execute_result"
    },
    {
     "data": {
      "image/png": "[encoded data removed]",
      "text/plain": [
       "<Figure size 432x288 with 2 Axes>"
      ]
     },
     "metadata": {
      "needs_background": "light"
     },
     "output_type": "display_data"
    }
   ],
   "source": [
    "print('Support Vector Classifier' + '\\n')\n",
    "print(classification_report(y_test,svcpred))\n",
    "\n",
    "print('\\n')\n",
    "\n",
    "print('Confusion matrix')\n",
    "sns.heatmap(confusion_matrix(y_test,svcpred),cmap='Purples_r',annot=True,fmt='g')"
   ]
  },
  {
   "cell_type": "markdown",
   "id": "232c8c74",
   "metadata": {
    "papermill": {
     "duration": 0.11325,
     "end_time": "2022-09-05T11:31:32.847308",
     "exception": false,
     "start_time": "2022-09-05T11:31:32.734058",
     "status": "completed"
    },
    "tags": []
   },
   "source": [
    "# Desicion Tree Classifier"
   ]
  },
  {
   "cell_type": "code",
   "execution_count": 50,
   "id": "bc1bd08f",
   "metadata": {
    "execution": {
     "iopub.execute_input": "2022-09-05T11:31:33.080951Z",
     "iopub.status.busy": "2022-09-05T11:31:33.080247Z",
     "iopub.status.idle": "2022-09-05T11:31:33.083636Z",
     "shell.execute_reply": "2022-09-05T11:31:33.084311Z",
     "shell.execute_reply.started": "2022-09-05T11:18:13.938500Z"
    },
    "papermill": {
     "duration": 0.123446,
     "end_time": "2022-09-05T11:31:33.084485",
     "exception": false,
     "start_time": "2022-09-05T11:31:32.961039",
     "status": "completed"
    },
    "tags": []
   },
   "outputs": [],
   "source": [
    "dt = DecisionTreeClassifier(max_depth=7, min_samples_split=4, min_samples_leaf=1, random_state=1)\n",
    "dt.fit(X_train,y_train)\n",
    "dtpred = dt.predict(X_test)"
   ]
  },
  {
   "cell_type": "code",
   "execution_count": 51,
   "id": "07a294cb",
   "metadata": {
    "execution": {
     "iopub.execute_input": "2022-09-05T11:31:33.318096Z",
     "iopub.status.busy": "2022-09-05T11:31:33.317422Z",
     "iopub.status.idle": "2022-09-05T11:31:33.600746Z",
     "shell.execute_reply": "2022-09-05T11:31:33.601434Z",
     "shell.execute_reply.started": "2022-09-05T11:18:13.954917Z"
    },
    "papermill": {
     "duration": 0.402782,
     "end_time": "2022-09-05T11:31:33.601615",
     "exception": false,
     "start_time": "2022-09-05T11:31:33.198833",
     "status": "completed"
    },
    "tags": []
   },
   "outputs": [
    {
     "name": "stdout",
     "output_type": "stream",
     "text": [
      "Desicion Tree Classifier\n",
      "\n",
      "              precision    recall  f1-score   support\n",
      "\n",
      "           H       0.75      0.82      0.78        22\n",
      "           L       0.87      0.77      0.82        26\n",
      "           M       0.80      0.81      0.80        48\n",
      "\n",
      "    accuracy                           0.80        96\n",
      "   macro avg       0.81      0.80      0.80        96\n",
      "weighted avg       0.81      0.80      0.80        96\n",
      "\n",
      "\n",
      "\n",
      "Confusion matrix\n"
     ]
    },
    {
     "data": {
      "text/plain": [
       "<AxesSubplot:>"
      ]
     },
     "execution_count": 51,
     "metadata": {},
     "output_type": "execute_result"
    },
    {
     "data": {
      "image/png": "[encoded data removed]",
      "text/plain": [
       "<Figure size 432x288 with 2 Axes>"
      ]
     },
     "metadata": {
      "needs_background": "light"
     },
     "output_type": "display_data"
    }
   ],
   "source": [
    "print('Desicion Tree Classifier' + '\\n')\n",
    "print(classification_report(y_test,dtpred))\n",
    "\n",
    "print('\\n')\n",
    "\n",
    "print('Confusion matrix')\n",
    "sns.heatmap(confusion_matrix(y_test,dtpred),cmap='Greens_r',annot=True,fmt='g')"
   ]
  },
  {
   "cell_type": "markdown",
   "id": "bd584180",
   "metadata": {
    "papermill": {
     "duration": 0.114752,
     "end_time": "2022-09-05T11:31:33.831540",
     "exception": false,
     "start_time": "2022-09-05T11:31:33.716788",
     "status": "completed"
    },
    "tags": []
   },
   "source": [
    "# KNN classifier"
   ]
  },
  {
   "cell_type": "markdown",
   "id": "df5a1e40",
   "metadata": {
    "papermill": {
     "duration": 0.114738,
     "end_time": "2022-09-05T11:31:34.060704",
     "exception": false,
     "start_time": "2022-09-05T11:31:33.945966",
     "status": "completed"
    },
    "tags": []
   },
   "source": [
    "### Choosing K value"
   ]
  },
  {
   "cell_type": "code",
   "execution_count": 52,
   "id": "b30cf27a",
   "metadata": {
    "execution": {
     "iopub.execute_input": "2022-09-05T11:31:34.293697Z",
     "iopub.status.busy": "2022-09-05T11:31:34.293045Z",
     "iopub.status.idle": "2022-09-05T11:31:34.733621Z",
     "shell.execute_reply": "2022-09-05T11:31:34.733077Z",
     "shell.execute_reply.started": "2022-09-05T11:18:14.267339Z"
    },
    "papermill": {
     "duration": 0.55805,
     "end_time": "2022-09-05T11:31:34.733761",
     "exception": false,
     "start_time": "2022-09-05T11:31:34.175711",
     "status": "completed"
    },
    "tags": []
   },
   "outputs": [
    {
     "data": {
      "image/png": "[encoded data removed]",
      "text/plain": [
       "<Figure size 1440x720 with 1 Axes>"
      ]
     },
     "metadata": {
      "needs_background": "light"
     },
     "output_type": "display_data"
    }
   ],
   "source": [
    "err_rate = [] # Array to save all error rates\n",
    "\n",
    "for i in range(1,40): # loop to try all error rates from 1 to 40\n",
    "    knn = KNeighborsClassifier(n_neighbors=i) # create a knn object with number of neighbours with value i\n",
    "    knn.fit(X_train,y_train) # fit the model\n",
    "    pred_i = knn.predict(X_test) # predict the value\n",
    "    err_rate.append(np.mean(pred_i != y_test)) #add the value to the array\n",
    "    \n",
    "    # Plotting the value of k error rate using the method we created above to make it easier to choose a k value\n",
    "plt.figure(figsize=(20,10)) # size of the figure\n",
    "plt.plot(range(1,40),err_rate,color='blue',linestyle='dotted',marker='o',markerfacecolor='red',markersize=8)#plotting the values\n",
    "plt.title = 'K Values VS Error Rates' #title\n",
    "plt.xlabel = 'K Value' #x label\n",
    "plt.ylabel= 'Error Rate' # y label\n",
    "plt.show()"
   ]
  },
  {
   "cell_type": "markdown",
   "id": "6cc71abe",
   "metadata": {
    "papermill": {
     "duration": 0.115842,
     "end_time": "2022-09-05T11:31:34.966337",
     "exception": false,
     "start_time": "2022-09-05T11:31:34.850495",
     "status": "completed"
    },
    "tags": []
   },
   "source": [
    "### Training the model"
   ]
  },
  {
   "cell_type": "code",
   "execution_count": 53,
   "id": "d2accf17",
   "metadata": {
    "execution": {
     "iopub.execute_input": "2022-09-05T11:31:35.217913Z",
     "iopub.status.busy": "2022-09-05T11:31:35.217235Z",
     "iopub.status.idle": "2022-09-05T11:31:35.233081Z",
     "shell.execute_reply": "2022-09-05T11:31:35.233578Z",
     "shell.execute_reply.started": "2022-09-05T11:18:14.797947Z"
    },
    "papermill": {
     "duration": 0.150228,
     "end_time": "2022-09-05T11:31:35.233788",
     "exception": false,
     "start_time": "2022-09-05T11:31:35.083560",
     "status": "completed"
    },
    "tags": []
   },
   "outputs": [],
   "source": [
    "# We didn't choose 1 as it's so sensetive to just rely on 1 neighbor\n",
    "knn = KNeighborsClassifier(n_neighbors=21,p=10)\n",
    "knn.fit(X_train,y_train)\n",
    "knnpred = knn.predict(X_test)"
   ]
  },
  {
   "cell_type": "code",
   "execution_count": 54,
   "id": "a60b86c7",
   "metadata": {
    "execution": {
     "iopub.execute_input": "2022-09-05T11:31:35.475107Z",
     "iopub.status.busy": "2022-09-05T11:31:35.474413Z",
     "iopub.status.idle": "2022-09-05T11:31:35.730474Z",
     "shell.execute_reply": "2022-09-05T11:31:35.729827Z",
     "shell.execute_reply.started": "2022-09-05T11:18:14.819263Z"
    },
    "papermill": {
     "duration": 0.377093,
     "end_time": "2022-09-05T11:31:35.730616",
     "exception": false,
     "start_time": "2022-09-05T11:31:35.353523",
     "status": "completed"
    },
    "tags": []
   },
   "outputs": [
    {
     "name": "stdout",
     "output_type": "stream",
     "text": [
      "K Nearest Neighbours\n",
      "\n",
      "              precision    recall  f1-score   support\n",
      "\n",
      "           H       0.77      0.77      0.77        22\n",
      "           L       0.78      0.96      0.86        26\n",
      "           M       0.86      0.75      0.80        48\n",
      "\n",
      "    accuracy                           0.81        96\n",
      "   macro avg       0.80      0.83      0.81        96\n",
      "weighted avg       0.82      0.81      0.81        96\n",
      "\n",
      "\n",
      "\n",
      "Confusion matrix\n"
     ]
    },
    {
     "data": {
      "text/plain": [
       "<AxesSubplot:>"
      ]
     },
     "execution_count": 54,
     "metadata": {},
     "output_type": "execute_result"
    },
    {
     "data": {
      "image/png": "[encoded data removed]",
      "text/plain": [
       "<Figure size 432x288 with 2 Axes>"
      ]
     },
     "metadata": {
      "needs_background": "light"
     },
     "output_type": "display_data"
    }
   ],
   "source": [
    "print('K Nearest Neighbours' + '\\n')\n",
    "print(classification_report(y_test,knnpred))\n",
    "\n",
    "print('\\n')\n",
    "\n",
    "print('Confusion matrix')\n",
    "sns.heatmap(confusion_matrix(y_test,knnpred),cmap='Oranges_r',annot=True,fmt='g')"
   ]
  },
  {
   "cell_type": "markdown",
   "id": "ca36af04",
   "metadata": {
    "papermill": {
     "duration": 0.119553,
     "end_time": "2022-09-05T11:31:35.968018",
     "exception": false,
     "start_time": "2022-09-05T11:31:35.848465",
     "status": "completed"
    },
    "tags": []
   },
   "source": [
    "# Logistic Regression "
   ]
  },
  {
   "cell_type": "code",
   "execution_count": 55,
   "id": "318bfd90",
   "metadata": {
    "execution": {
     "iopub.execute_input": "2022-09-05T11:31:36.214306Z",
     "iopub.status.busy": "2022-09-05T11:31:36.213591Z",
     "iopub.status.idle": "2022-09-05T11:31:36.231179Z",
     "shell.execute_reply": "2022-09-05T11:31:36.230626Z",
     "shell.execute_reply.started": "2022-09-05T11:18:15.111727Z"
    },
    "papermill": {
     "duration": 0.141208,
     "end_time": "2022-09-05T11:31:36.231332",
     "exception": false,
     "start_time": "2022-09-05T11:31:36.090124",
     "status": "completed"
    },
    "tags": []
   },
   "outputs": [],
   "source": [
    "Lr = LogisticRegression(C=1,max_iter=30,multi_class='auto',random_state=1)\n",
    "Lr.fit(X_train,y_train)\n",
    "Lrpred = Lr.predict(X_test)"
   ]
  },
  {
   "cell_type": "code",
   "execution_count": 56,
   "id": "f09b515e",
   "metadata": {
    "execution": {
     "iopub.execute_input": "2022-09-05T11:31:36.471995Z",
     "iopub.status.busy": "2022-09-05T11:31:36.471340Z",
     "iopub.status.idle": "2022-09-05T11:31:36.751893Z",
     "shell.execute_reply": "2022-09-05T11:31:36.751311Z",
     "shell.execute_reply.started": "2022-09-05T11:18:15.135958Z"
    },
    "papermill": {
     "duration": 0.402337,
     "end_time": "2022-09-05T11:31:36.752050",
     "exception": false,
     "start_time": "2022-09-05T11:31:36.349713",
     "status": "completed"
    },
    "tags": []
   },
   "outputs": [
    {
     "name": "stdout",
     "output_type": "stream",
     "text": [
      "Logistic Regression\n",
      "\n",
      "              precision    recall  f1-score   support\n",
      "\n",
      "           H       0.76      0.73      0.74        22\n",
      "           L       0.81      0.96      0.88        26\n",
      "           M       0.84      0.77      0.80        48\n",
      "\n",
      "    accuracy                           0.81        96\n",
      "   macro avg       0.80      0.82      0.81        96\n",
      "weighted avg       0.81      0.81      0.81        96\n",
      "\n",
      "\n",
      "\n",
      "Confusion matrix\n"
     ]
    },
    {
     "data": {
      "text/plain": [
       "<AxesSubplot:>"
      ]
     },
     "execution_count": 56,
     "metadata": {},
     "output_type": "execute_result"
    },
    {
     "data": {
      "image/png": "[encoded data removed]",
      "text/plain": [
       "<Figure size 432x288 with 2 Axes>"
      ]
     },
     "metadata": {
      "needs_background": "light"
     },
     "output_type": "display_data"
    }
   ],
   "source": [
    "print('Logistic Regression' + '\\n')\n",
    "print(classification_report(y_test,Lrpred))\n",
    "\n",
    "print('\\n')\n",
    "\n",
    "print('Confusion matrix')\n",
    "sns.heatmap(confusion_matrix(y_test,Lrpred),cmap='PuBu_r',annot=True,fmt='g')"
   ]
  },
  {
   "cell_type": "markdown",
   "id": "544a67a4",
   "metadata": {
    "papermill": {
     "duration": 0.119735,
     "end_time": "2022-09-05T11:31:36.990666",
     "exception": false,
     "start_time": "2022-09-05T11:31:36.870931",
     "status": "completed"
    },
    "tags": []
   },
   "source": [
    "# Features importance"
   ]
  },
  {
   "cell_type": "code",
   "execution_count": 57,
   "id": "d9d11d43",
   "metadata": {
    "execution": {
     "iopub.execute_input": "2022-09-05T11:31:37.233405Z",
     "iopub.status.busy": "2022-09-05T11:31:37.232371Z",
     "iopub.status.idle": "2022-09-05T11:31:37.506286Z",
     "shell.execute_reply": "2022-09-05T11:31:37.505613Z",
     "shell.execute_reply.started": "2022-09-05T11:18:15.428956Z"
    },
    "papermill": {
     "duration": 0.396218,
     "end_time": "2022-09-05T11:31:37.506433",
     "exception": false,
     "start_time": "2022-09-05T11:31:37.110215",
     "status": "completed"
    },
    "tags": []
   },
   "outputs": [
    {
     "data": {
      "text/plain": [
       "<AxesSubplot:>"
      ]
     },
     "execution_count": 57,
     "metadata": {},
     "output_type": "execute_result"
    },
    {
     "data": {
      "image/png": "[encoded data removed]",
      "text/plain": [
       "<Figure size 720x720 with 1 Axes>"
      ]
     },
     "metadata": {
      "needs_background": "light"
     },
     "output_type": "display_data"
    }
   ],
   "source": [
    "# Show which features has the most effect on our results so we can modify and tune our features\n",
    "# I used Random Forest Classifier to determine the feature importances\n",
    "\n",
    "plt.figure(figsize=(10,10))\n",
    "importance = pd.Series(rfc.feature_importances_,index=Features.columns)\n",
    "importance.nlargest(15).plot(kind='barh')"
   ]
  },
  {
   "cell_type": "markdown",
   "id": "cf52a350",
   "metadata": {
    "papermill": {
     "duration": 0.119745,
     "end_time": "2022-09-05T11:31:37.746674",
     "exception": false,
     "start_time": "2022-09-05T11:31:37.626929",
     "status": "completed"
    },
    "tags": []
   },
   "source": [
    "# Summary"
   ]
  },
  {
   "cell_type": "markdown",
   "id": "a81ec455",
   "metadata": {
    "papermill": {
     "duration": 0.120514,
     "end_time": "2022-09-05T11:31:37.987546",
     "exception": false,
     "start_time": "2022-09-05T11:31:37.867032",
     "status": "completed"
    },
    "tags": []
   },
   "source": [
    "### Here is a summary of best accuracy I could get from each model\n",
    "\n",
    "#### Random Forest Classifier 89%\n",
    "#### Support Vector Classifier 84%\n",
    "#### Desicion Tree Classifier 82%\n",
    "#### Logistic Regression 81%\n",
    "#### KNN 81%"
   ]
  }
 ],
 "metadata": {
  "kernelspec": {
   "display_name": "Python 3",
   "language": "python",
   "name": "python3"
  },
  "language_info": {
   "codemirror_mode": {
    "name": "ipython",
    "version": 3
   },
   "file_extension": ".py",
   "mimetype": "text/x-python",
   "name": "python",
   "nbconvert_exporter": "python",
   "pygments_lexer": "ipython3",
   "version": "3.7.12"
  },
  "papermill": {
   "default_parameters": {},
   "duration": 42.49638,
   "end_time": "2022-09-05T11:31:39.123214",
   "environment_variables": {},
   "exception": null,
   "input_path": "__notebook__.ipynb",
   "output_path": "__notebook__.ipynb",
   "parameters": {},
   "start_time": "2022-09-05T11:30:56.626834",
   "version": "2.3.3"
  }
 },
 "nbformat": 4,
 "nbformat_minor": 5
}
